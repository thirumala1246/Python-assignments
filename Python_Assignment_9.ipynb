{
 "cells": [
  {
   "attachments": {},
   "cell_type": "markdown",
   "id": "bf218a9c",
   "metadata": {},
   "source": [
    "**1.To what does a relative path refer ?**<br>\n",
    "Ans:Relative path is combined with in order access a file, relative pathnames start with respect to the current directory and many leading slashes.<br>\n",
    "*for example: graduate/Btech._cs.docx is a relative path as only part of complete path is valid*<br>\n",
    "\n",
    "**2.Where does an absolute path start with your Operating System ?**<br>\n",
    "Ans for Windows based systems absolute path starts with `C:\\` and Linux based systems starts with `/`\n",
    "<br>\n",
    "\n",
    "**3.What does the functions os.getcwd() and os.chdir() do ?**<br>\n",
    "Ans: The method os.getcwd() in Python returns the current working directory of a process.os.chdir() is used to change the current directory.this method takes name of the directory which you want to make the current directory.<br>"
   ]
  },
  {
   "cell_type": "code",
   "execution_count": 2,
   "id": "fd68ff4a",
   "metadata": {},
   "outputs": [
    {
     "name": "stdout",
     "output_type": "stream",
     "text": [
      "Current Directory ... c:\\Users\\hruday\\Downloads\n",
      "After chdir, the Current Directory ... c:\\Users\\hruday\\Downloads\\New folder\n"
     ]
    }
   ],
   "source": [
    "import os\n",
    "print(\"Current Directory ...\",os.getcwd())\n",
    "os.chdir(\"New folder\") \n",
    "print(\"After chdir, the Current Directory ...\",os.getcwd())"
   ]
  },
  {
   "attachments": {},
   "cell_type": "markdown",
   "id": "1ae9fc81",
   "metadata": {},
   "source": [
    "**4.What are . and .. folders ?**<br>\n",
    "Ans:. Represents the Current Directory Whereas .. Represents the Parent Directory of the Current Directory<br>\n",
    "*For Example: if the below path is my absolute path:<br>\n",
    "C:\\\\Users\\\\thirumala1246\\\\Python Basic Assignment<br>\n",
    "Then . represents the `path C:\\\\Users\\\\thirumala1246\\\\Python Basic Assignment` Basic Assignment<br>\n",
    "Where as .. represents the `path C:\\\\Users\\\\thirumala1246\\\\iNeuron-Assignments`*<br>\n",
    "\n",
    "**5.In C:\\bacon\\eggs\\spam.txt which part is the dir name and which part is the base name ?**<br>\n",
    "Ans: For `C:\\bacon\\eggs\\spam.txt`\n",
    "The dir name is `C:\\\\bacon\\\\eggs` and Base name is `spam.txt`"
   ]
  },
  {
   "cell_type": "code",
   "execution_count": 3,
   "id": "4b04bfde",
   "metadata": {},
   "outputs": [
    {
     "name": "stdout",
     "output_type": "stream",
     "text": [
      "C:\\bacon\\eggs\n",
      "spam.txt\n"
     ]
    }
   ],
   "source": [
    "import os\n",
    "path = r'C:\\bacon\\eggs\\spam.txt'\n",
    "print(os.path.dirname(path))\n",
    "print(os.path.basename(path))"
   ]
  },
  {
   "attachments": {},
   "cell_type": "markdown",
   "id": "6cc0bb0e",
   "metadata": {},
   "source": [
    "**6.What are the three mode arguments that can be passed to the open() function ?**<br>\n",
    "Ans: The open() function creates a file object, which will be used to invoke methods associated with it.<br>\n",
    "**Syntax:** `fileobj = open(file_name, access_mode)` <br>\n",
    "`'r'`: Opens the file in read-only mode. Starts reading from the beginning of the file and is the default mode for the open() function.<br>\n",
    "`'w'`: Opens in write-only mode. The pointer is placed at the beginning of the file and this will overwrite any existing file with the same name. It will create a new file if one with the same name doesn't exist.<br>\n",
    "`'a'`: Opens a file for appending new information to it. The pointer is placed at the end of the file. A new file is created if one with the same name doesn't exist.<br>\n",
    "`'x'`: Exclusive Creating Mode: This mode is for the sole purpose of creating new files. Use this mode if you know the file to be written doesn’t exist beforehand.<br>\n",
    "`'a+'`: Opens a file for both appending and reading.<br>\n",
    "`'r+'`: Opens a file for reading and writing, placing the pointer at the beginning of the file.<br>\n",
    "\n",
    "**7.What happens if an existing file is opened in write mode ?**<br>\n",
    "Ans:Using this mode will overwrite any existing content in a file. If the given file does not exist, a new one will be created.<br>\n",
    "\n",
    "**8.How do you tell the difference between read() and readlines() ?**<br>\n",
    "Ans: The `read()` method is used to read a string from an already existing file. if we passed a read() method specifies the number of bytes to be read from the opened file.<br>\n",
    "The `read()` method starts reading from the beginning of the file and if count is missing or has a negative value, then it read the entire contents of the file.<br>\n",
    "The `readline()` method is used to read a single line from the file. The method returns an empty string when the end of the file has been reached.<br>\n",
    "The `readline()` method return a string containing only a single newline character when a blank line is encountered in the file.<br>\n",
    "\n",
    "**9.What data structure does a shelf value resemble ?**<br>\n",
    "Ans: shelf value resemble dictionary data structure.it contains keys and values."
   ]
  }
 ],
 "metadata": {
  "kernelspec": {
   "display_name": "Python 3",
   "language": "python",
   "name": "python3"
  },
  "language_info": {
   "codemirror_mode": {
    "name": "ipython",
    "version": 3
   },
   "file_extension": ".py",
   "mimetype": "text/x-python",
   "name": "python",
   "nbconvert_exporter": "python",
   "pygments_lexer": "ipython3",
   "version": "3.11.2"
  },
  "vscode": {
   "interpreter": {
    "hash": "5238573367df39f7286bb46f9ff5f08f63a01a80960060ce41e3c79b190280fa"
   }
  }
 },
 "nbformat": 4,
 "nbformat_minor": 5
}
