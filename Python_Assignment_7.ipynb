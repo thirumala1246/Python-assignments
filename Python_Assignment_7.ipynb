{
  "nbformat": 4,
  "nbformat_minor": 0,
  "metadata": {
    "colab": {
      "provenance": []
    },
    "kernelspec": {
      "name": "python3",
      "display_name": "Python 3"
    },
    "language_info": {
      "name": "python"
    }
  },
  "cells": [
    {
      "cell_type": "markdown",
      "source": [
        "**1.What is the name of the feature responsible for generating Regex objects?**<br>\n",
        "Ans:`re` module provides an interface to the regular expression engine,allowing you to compile REs into objects and then perform matches with them.re.compile() is the feature responsible for generation of Regex objects."
      ],
      "metadata": {
        "id": "R8LxyrImdhes"
      }
    },
    {
      "cell_type": "code",
      "source": [
        "import re\n",
        "x = re.compile(\"some_random_pattern\")\n",
        "type(x)\n",
        "# print(x)"
      ],
      "metadata": {
        "colab": {
          "base_uri": "https://localhost:8080/"
        },
        "id": "ay8zEG8QPwTM",
        "outputId": "1f8df173-4350-45d9-8409-8d58c0fbfea1"
      },
      "execution_count": 2,
      "outputs": [
        {
          "output_type": "execute_result",
          "data": {
            "text/plain": [
              "re.Pattern"
            ]
          },
          "metadata": {},
          "execution_count": 2
        }
      ]
    },
    {
      "cell_type": "markdown",
      "source": [
        "**2.Why do raw strings often appear in Regex objects?**<br>\n",
        "Ans: Unlike a regular string, a raw string treats the backslashes (\\) as literal characters.In a normal string, an escape sequence is considered to be one character, but in a raw string, backslashes are also counted as characters.\n",
        "<br>\n",
        "\n",
        "**3. What is the return value of the search() method?**\n",
        "<br>\n",
        "Ans:The Python re.search() function returns a match object when the pattern is found and “null” if the pattern is not found."
      ],
      "metadata": {
        "id": "RJIYCgkkQm0j"
      }
    },
    {
      "cell_type": "code",
      "source": [
        "import re\n",
        "match = re.search('i','Data science is the study of data to extract meaningful insights for business.', flags=re.IGNORECASE)\n",
        "print('Output:',match)\n",
        "match = re.search('a','Data science is the study of data to extract meaningful insights for business.', flags=re.IGNORECASE)\n",
        "print('Output:',match)"
      ],
      "metadata": {
        "colab": {
          "base_uri": "https://localhost:8080/"
        },
        "id": "iIHt5d76jlRl",
        "outputId": "546b4ac3-8498-497f-dea3-9563b4f17d13"
      },
      "execution_count": 5,
      "outputs": [
        {
          "output_type": "stream",
          "name": "stdout",
          "text": [
            "Output: <re.Match object; span=(7, 8), match='i'>\n",
            "Output: <re.Match object; span=(1, 2), match='a'>\n"
          ]
        }
      ]
    },
    {
      "cell_type": "markdown",
      "source": [
        "**4.From a Match item, how do you get the actual strings that match the pattern?**<br>\n",
        "Ans: For Matched items group() methods returns actual strings that match the pattern."
      ],
      "metadata": {
        "id": "ivUqCFAIkjP9"
      }
    },
    {
      "cell_type": "code",
      "source": [
        "import re\n",
        "match = re.search('data','Data science is the study of data to extract meaningful insights for business.', flags=re.IGNORECASE)\n",
        "print('Output:',match.group())"
      ],
      "metadata": {
        "colab": {
          "base_uri": "https://localhost:8080/"
        },
        "id": "_sIBwQEqkp88",
        "outputId": "3311c3fe-84c7-4b4c-c9b5-372cfefa0b61"
      },
      "execution_count": 7,
      "outputs": [
        {
          "output_type": "stream",
          "name": "stdout",
          "text": [
            "Output: Data\n"
          ]
        }
      ]
    },
    {
      "cell_type": "markdown",
      "source": [
        "**5. In the regex which created from the r'(\\d\\d\\d)-(\\d\\d\\d-\\d\\d\\d\\d)', what does group zero cover? Group 2? Group 1?**<br>\n",
        "Ans: In the Regex r'(\\d\\d\\d)-(\\d\\d\\d-\\d\\d\\d\\d)' the zero group covers the entire pattern match where as the first group cover (\\d\\d\\d) and the second group cover (\\d\\d\\d-\\d\\d\\d\\d)."
      ],
      "metadata": {
        "id": "6Qe01Xvpk37M"
      }
    },
    {
      "cell_type": "code",
      "source": [
        "# Example Program\n",
        "import re\n",
        "phoneNumRegex = re.compile(r'(\\d\\d\\d)-(\\d\\d\\d-\\d\\d\\d\\d)')\n",
        "mo = phoneNumRegex.search('My number is 222-303-2000.')\n",
        "print(mo.groups()) # Prints all groups in a tuple format\n",
        "print(mo.group()) # Always returns the fully matched string \n",
        "print(mo.group(1)) # Returns the first group\n",
        "print(mo.group(2)) # Returns the second group"
      ],
      "metadata": {
        "colab": {
          "base_uri": "https://localhost:8080/"
        },
        "id": "2tojbPmRvslL",
        "outputId": "d01516e4-29aa-4d0b-92b2-3b7498e74aca"
      },
      "execution_count": 9,
      "outputs": [
        {
          "output_type": "stream",
          "name": "stdout",
          "text": [
            "('222', '303-2000')\n",
            "222-303-2000\n",
            "222\n",
            "303-2000\n"
          ]
        }
      ]
    },
    {
      "cell_type": "markdown",
      "source": [
        "**6. In standard expression syntax, parentheses and intervals have distinct meanings. How can you tell a regex that you want it to fit real parentheses and periods?**<br>\n",
        "Ans: The `\\.`, `\\(` and `\\)` escape characters in the raw string passed to re.compile() will match actual parenthesis characters."
      ],
      "metadata": {
        "id": "BFK3dzJkxYnF"
      }
    },
    {
      "cell_type": "code",
      "source": [
        "import re\n",
        "dateRegex = re.compile(r'\\d{2}-\\d{2}-\\d{4}')\n",
        "mo = dateRegex.search('My date is 22-03-2000.')\n",
        "print(mo.group())"
      ],
      "metadata": {
        "colab": {
          "base_uri": "https://localhost:8080/"
        },
        "id": "XRK1Bae5yRbk",
        "outputId": "ff0e6e8c-a27d-477b-d51b-b462877bf4d7"
      },
      "execution_count": 12,
      "outputs": [
        {
          "output_type": "stream",
          "name": "stdout",
          "text": [
            "22-03-2000\n"
          ]
        }
      ]
    },
    {
      "cell_type": "markdown",
      "source": [
        "**7. The findall() method returns a string list or a list of string tuples. What causes it to return one of the two options?**<br>\n",
        "Ans: If the regex pattern has no groups, a list of strings matched is returned. if the regex pattern has groups, a list of tuple of strings is returned."
      ],
      "metadata": {
        "id": "eC0T2cCSzHfe"
      }
    },
    {
      "cell_type": "code",
      "source": [
        "import re\n",
        "phoneNumRegex = re.compile(r'(\\(\\d\\d\\d\\)) (\\d\\d\\d-\\d\\d\\d\\d)')\n",
        "mo = phoneNumRegex.findall('My phone number is (415) 555-4242.')\n",
        "print(mo)\n",
        "\n",
        "import re\n",
        "addressRegex = re.compile(r'\\d{3}-\\d{1}-\\d{3}')\n",
        "mo = addressRegex.findall('My house no is 352-8-179,hyderabad.')\n",
        "print(mo)"
      ],
      "metadata": {
        "colab": {
          "base_uri": "https://localhost:8080/"
        },
        "id": "gRr2dBCb0J9N",
        "outputId": "45e227a5-b227-468b-abdc-8b4f622603d9"
      },
      "execution_count": 20,
      "outputs": [
        {
          "output_type": "stream",
          "name": "stdout",
          "text": [
            "[('(415)', '555-4242')]\n",
            "['352-8-179']\n"
          ]
        }
      ]
    },
    {
      "cell_type": "markdown",
      "source": [
        "**8. In standard expressions, what does the | character mean?**<br>\n",
        "Ans: In Standard Expressions | means OR operator.\n",
        "<br>\n",
        "\n",
        "**9. In regular expressions, what does the ? character stand for?**<br>\n",
        "Ans: In regular Expressions, ? characters represents zero or one match of the preceeding group."
      ],
      "metadata": {
        "id": "7JS1TQjN1oS0"
      }
    },
    {
      "cell_type": "code",
      "source": [
        "import re\n",
        "match_1 = re.search(\"(psycho)?logical\",\"His problems were psychological.\")\n",
        "print(match_1)\n",
        "match_2 = re.search(\"(psycho)?logical\",\"Her problems were logical.\")\n",
        "print(match_2)"
      ],
      "metadata": {
        "colab": {
          "base_uri": "https://localhost:8080/"
        },
        "id": "dwe8YR692177",
        "outputId": "4d3e3e93-fcbc-42ba-e82c-b44b61d0d020"
      },
      "execution_count": 21,
      "outputs": [
        {
          "output_type": "stream",
          "name": "stdout",
          "text": [
            "<re.Match object; span=(18, 31), match='psychological'>\n",
            "<re.Match object; span=(18, 25), match='logical'>\n"
          ]
        }
      ]
    },
    {
      "cell_type": "markdown",
      "source": [
        "**10.In regular expressions, what is the difference between the + and * characters?**<br>\n",
        "Ans: In Regular Expressions, * Represents Zero ore more occurances of the preceeding group, whereas + represents one or more occurances of the preceeding group."
      ],
      "metadata": {
        "id": "WasERi2w5Nob"
      }
    },
    {
      "cell_type": "code",
      "source": [
        "import re\n",
        "match_1 = re.search(\"(psycho)*logical\",\"Her problems were logical.\")\n",
        "print(match_1)\n",
        "match_2 = re.search(\"(psycho)+logical\",\"Her problems were logical.\")\n",
        "print(match_2)"
      ],
      "metadata": {
        "colab": {
          "base_uri": "https://localhost:8080/"
        },
        "id": "aQtjIt8c5Scl",
        "outputId": "1b010293-2b95-4718-e878-be52ec2e2468"
      },
      "execution_count": 24,
      "outputs": [
        {
          "output_type": "stream",
          "name": "stdout",
          "text": [
            "<re.Match object; span=(18, 25), match='logical'>\n",
            "None\n"
          ]
        }
      ]
    },
    {
      "cell_type": "markdown",
      "source": [
        "**11. What is the difference between {4} and {4,5} in regular expression?**<br>\n",
        "Ans: {4} means that its preceeding group should repeat 4 times. where as {4,5} means that its preceeding group should repeat mininum 4 times and maximum 5 times inclusively"
      ],
      "metadata": {
        "id": "x3NzwcxG55ey"
      }
    },
    {
      "cell_type": "code",
      "source": [
        "import re\n",
        "haRegex = re.compile(r'(lol){3}')\n",
        "mo1 = haRegex.search('lollollol')\n",
        "mo2 = haRegex.search('lol')\n",
        "print(mo1.group())\n",
        "print(mo2)"
      ],
      "metadata": {
        "colab": {
          "base_uri": "https://localhost:8080/"
        },
        "id": "axJyJrrM5-J7",
        "outputId": "7d076d41-21a6-4742-c67e-01fba560fa75"
      },
      "execution_count": 27,
      "outputs": [
        {
          "output_type": "stream",
          "name": "stdout",
          "text": [
            "lollollol\n",
            "<re.Match object; span=(0, 9), match='lollollol'>\n"
          ]
        }
      ]
    },
    {
      "cell_type": "markdown",
      "source": [
        "**12. What do you mean by the \\d, \\w, and \\s shorthand character classes signify in regular expressions?**<br>\n",
        "Ans:\\d, \\w and \\s are special sequences in regular expresssions in python:<br>\n",
        "1.   `\\w` - Matches any alphanumeric character; this is equivalent to the class [a-zA-Z0-9_].\n",
        "2.   `\\d` - Matches any decimal digit; this is equivalent to the class [0-9].\n",
        "3.   `\\s` - Matches any whitespace character; this is equivalent to the class [ \\t\\n\\r\\f\\v].\n",
        "<br>\n",
        "\n",
        "**13. What do means by \\D, \\W, and \\S shorthand character classes signify in regular expressions?**<br>\n",
        "Ans: \\D, \\W and \\S are special sequences in regular expresssions in python:<br>\n",
        "1.  `\\D` - Matches any non-digit character; this is equivalent to the class [^0-9].\n",
        "2.  `\\W` - Matches any non-alphanumeric character; this is equivalent to the class [^a-zA-Z0-9_].\n",
        "3.  `\\S` - Matches any non-whitespace character; this is equivalent to the class [^ \\t\\n\\r\\f\\v].\n",
        "<br>\n",
        "\n",
        "**14. What is the difference between `(.*?)` and `(.*)`?**\n",
        "Ans: `.*` is a Greedy mode, which returns the longest string that meets the condition. Whereas `.*?` is a non greedy mode which returns the shortest string that meets the condition.\n",
        "<br>\n",
        "\n",
        "**15. What is the syntax for matching both numbers and lowercase letters with a character class?**<br>\n",
        "Ans: The Synatax is Either [a-z0-9] or [0-9a-z].\n",
        "<br>\n",
        "\n",
        "**16. What is the procedure for making a normal expression in regax case insensitive?**<br>\n",
        "Ans: We can pass re.IGNORECASE as a flag to make a normal expression case-insensitive.\n",
        "<br>\n",
        "\n",
        "**17. What does the . character normally match? What does it match if re.DOTALL is passed as 2nd argument in re.compile()?**<br>\n",
        "Ans: `.`(dot) character matches everything in input except newline character .. By passing re.DOTALL as a flag to re.compile(), you can make the dot character match all characters, including the newline character.\n",
        "<br>\n",
        "\n",
        "**18. If numReg = re.compile(r'\\d+'), what will numRegex.sub('X', '11 drummers, 10 pipers, five rings, 4 hen') return?**<br>\n",
        "Ans: The Ouput will be 'X drummers, X pipers, five rings, X hen'\n",
        "\n",
        "\n",
        "\n",
        "\n",
        "\n",
        "\n",
        "\n"
      ],
      "metadata": {
        "id": "5A-KCBAv8JuK"
      }
    },
    {
      "cell_type": "code",
      "source": [
        "import re\n",
        "numReg = re.compile(r'\\d+')\n",
        "numReg.sub('X', '11 drummers, 10 pipers, five rings, 4 hen')"
      ],
      "metadata": {
        "colab": {
          "base_uri": "https://localhost:8080/",
          "height": 35
        },
        "id": "0RefZmKDD-y8",
        "outputId": "ebf25e51-7980-499d-a09e-c762b2a1292f"
      },
      "execution_count": 28,
      "outputs": [
        {
          "output_type": "execute_result",
          "data": {
            "text/plain": [
              "'X drummers, X pipers, five rings, X hen'"
            ],
            "application/vnd.google.colaboratory.intrinsic+json": {
              "type": "string"
            }
          },
          "metadata": {},
          "execution_count": 28
        }
      ]
    },
    {
      "cell_type": "markdown",
      "source": [
        "**19. What does passing re.VERBOSE as the 2nd argument to re.compile() allow to do?**<br>\n",
        "Ans: `re.VERBOSE` or `re.X` will allow to add whitespace and comments to string passed to re.compile()."
      ],
      "metadata": {
        "id": "12HDl1CuEPjK"
      }
    },
    {
      "cell_type": "code",
      "source": [
        "# Without Using VERBOSE\n",
        "regex= re.compile(r'^([a-z0-9_\\.-]+)@([0-9a-z\\.-]+)\\.([a-z\\.]{2, 6})$', re.IGNORECASE)\n",
        " \n",
        "# Using VERBOSE\n",
        "regex_verbose = re.compile(r\"\"\"\\d +  # the integral part\n",
        "                   \\.    # the decimal point\n",
        "                   \\d *  # some fractional digits\"\"\", re.VERBOSE) \n"
      ],
      "metadata": {
        "id": "No5zytdcEVtz"
      },
      "execution_count": 34,
      "outputs": []
    },
    {
      "cell_type": "markdown",
      "source": [
        "**20. How would you write a regex that match a number with comma for every three digits? It must match the given following:<br>\n",
        "`'42'`,<br>\n",
        "`'1,234'`, <br>\n",
        "`'6,368,745'`<br>\n",
        "but not the following:<br>\n",
        " `'12,34,567'`(which has only two digits between the commas) <br>`'1234'` (which lacks commas)**<br>\n",
        "Ans:"
      ],
      "metadata": {
        "id": "nJHdonUSFquj"
      }
    },
    {
      "cell_type": "code",
      "source": [
        "import re\n",
        "pattern = r'^\\d{1,3}(,\\d{3})*$'\n",
        "pagex = re.compile(pattern)\n",
        "regex_list=['42','1,234', '6,368,745','12,34,567','1234']\n",
        "for i in regex_list:\n",
        "   print(regex_list.index(i),i, '- Output : ', pagex.search(i))\n"
      ],
      "metadata": {
        "colab": {
          "base_uri": "https://localhost:8080/"
        },
        "id": "6ApQLIydHTXF",
        "outputId": "155af930-4010-4240-8f6e-37a1bcae63e7"
      },
      "execution_count": 46,
      "outputs": [
        {
          "output_type": "stream",
          "name": "stdout",
          "text": [
            "0 42 - Output :  <re.Match object; span=(0, 2), match='42'>\n",
            "1 1,234 - Output :  <re.Match object; span=(0, 5), match='1,234'>\n",
            "2 6,368,745 - Output :  <re.Match object; span=(0, 9), match='6,368,745'>\n",
            "3 12,34,567 - Output :  None\n",
            "4 1234 - Output :  None\n"
          ]
        }
      ]
    },
    {
      "cell_type": "markdown",
      "source": [
        "**21. How would you write a regex that matches the full name of someone whose last name is Watanabe? You can assume that the first name that comes before it will always be one word that begins with a capital letter. The regex must match the following:<br>\n",
        "`'Haruto Watanabe'`<br>\n",
        "`'Alice Watanabe'`<br>\n",
        "`'RoboCop Watanabe'`<br>\n",
        "but not the following:<br>\n",
        "`'haruto Watanabe'` (where the first name is not capitalized)<br>\n",
        "`'Mr. Watanabe'` (where the preceding word has a nonletter character)<br>\n",
        "`'Watanabe'` (which has no first name)<br>\n",
        "`'Haruto watanabe'` (where Watanabe is not capitalized)**<br>\n",
        "Ans: pattern = `r'[A-Z]{1}[a-z]*\\sWatanabe'`"
      ],
      "metadata": {
        "id": "y5KHQfFhH9ki"
      }
    },
    {
      "cell_type": "code",
      "source": [
        "import re\n",
        "pattern = r'[A-Z]{1}[a-z]*\\sWatanabe'\n",
        "nameregex = re.compile(pattern)\n",
        "name_list=['Haruto Watanabe','Alice Watanabe','RoboCop Watanabe','haruto Watanabe','Mr. Watanabe','Watanabe','Haruto watanabe']\n",
        "for name in name_list:\n",
        "    print(name_list.index(name),name,'- Output : ',nameregex.search(name))"
      ],
      "metadata": {
        "colab": {
          "base_uri": "https://localhost:8080/"
        },
        "id": "i8zE7MITIlSE",
        "outputId": "d91f7366-dcde-4a7a-94c2-0cb1c1ec87fe"
      },
      "execution_count": 45,
      "outputs": [
        {
          "output_type": "stream",
          "name": "stdout",
          "text": [
            "0 Haruto Watanabe - Output :  <re.Match object; span=(0, 15), match='Haruto Watanabe'>\n",
            "1 Alice Watanabe - Output :  <re.Match object; span=(0, 14), match='Alice Watanabe'>\n",
            "2 RoboCop Watanabe - Output :  <re.Match object; span=(4, 16), match='Cop Watanabe'>\n",
            "3 haruto Watanabe - Output :  None\n",
            "4 Mr. Watanabe - Output :  None\n",
            "5 Watanabe - Output :  None\n",
            "6 Haruto watanabe - Output :  None\n"
          ]
        }
      ]
    },
    {
      "cell_type": "markdown",
      "source": [
        "**22. How would you write a regex that matches a sentence where the first word is either Alice, Bob,or Carol; the second word is either eats, pets, or throws; the third word is apples, cats, or baseballs; and the sentence ends with a period? This regex should be case-insensitive. It must match the following:<br>\n",
        "`'Alice eats apples.'`<br>\n",
        "`'Bob pets cats.'`<br>\n",
        "`'Carol throws baseballs.'`<br>\n",
        "`'Alice throws Apples.'`<br>\n",
        "`'BOB EATS CATS.'`<br>\n",
        "but not the following:<br>\n",
        "`'RoboCop eats apples.'`<br>\n",
        "`'ALICE THROWS FOOTBALLS.'`<br>\n",
        "`'Carol eats 7 cats.'`**<br>\n",
        "Ans:pattern = `r'(Alice|Bob|Carol)\\s(eats|pets|throws)\\s(apples|cats|baseballs)\\.'`"
      ],
      "metadata": {
        "id": "4EkUJXprKK0j"
      }
    },
    {
      "cell_type": "code",
      "source": [
        "import re\n",
        "pattern = r'(Alice|Bob|Carol)\\s(eats|pets|throws)\\s(apples|cats|baseballs)\\.'\n",
        "caseregex = re.compile(pattern,re.IGNORECASE)\n",
        "regex_case_list= ['Alice eats apples.','Bob pets cats.','Carol throws baseballs.','Alice throws Apples.','BOB EATS CATS.','RoboCop eats apples.'\n",
        ",'ALICE THROWS FOOTBALLS.','Carol eats 7 cats.']\n",
        "for c in regex_case_list:\n",
        "    print(regex_case_list.index(c),c,'- Output : ',caseregex.search(c))"
      ],
      "metadata": {
        "colab": {
          "base_uri": "https://localhost:8080/"
        },
        "id": "V_-mXWcWKpTj",
        "outputId": "736cdbf7-25d3-489a-c2d3-eb22e8a4768e"
      },
      "execution_count": 44,
      "outputs": [
        {
          "output_type": "stream",
          "name": "stdout",
          "text": [
            "0 Alice eats apples. - Output :  <re.Match object; span=(0, 18), match='Alice eats apples.'>\n",
            "1 Bob pets cats. - Output :  <re.Match object; span=(0, 14), match='Bob pets cats.'>\n",
            "2 Carol throws baseballs. - Output :  <re.Match object; span=(0, 23), match='Carol throws baseballs.'>\n",
            "3 Alice throws Apples. - Output :  <re.Match object; span=(0, 20), match='Alice throws Apples.'>\n",
            "4 BOB EATS CATS. - Output :  <re.Match object; span=(0, 14), match='BOB EATS CATS.'>\n",
            "5 RoboCop eats apples. - Output :  None\n",
            "6 ALICE THROWS FOOTBALLS. - Output :  None\n",
            "7 Carol eats 7 cats. - Output :  None\n"
          ]
        }
      ]
    }
  ]
}