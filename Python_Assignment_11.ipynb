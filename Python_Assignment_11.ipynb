{
 "cells": [
  {
   "attachments": {},
   "cell_type": "markdown",
   "metadata": {},
   "source": [
    "**1. Create an assert statement that throws an AssertionError if the variable spam is a negative integer.**<br>\n",
    "Ans:"
   ]
  },
  {
   "cell_type": "code",
   "execution_count": 4,
   "metadata": {},
   "outputs": [
    {
     "ename": "AssertionError",
     "evalue": "Spam value should not be a -ve number",
     "output_type": "error",
     "traceback": [
      "\u001b[1;31m---------------------------------------------------------------------------\u001b[0m",
      "\u001b[1;31mAssertionError\u001b[0m                            Traceback (most recent call last)",
      "Cell \u001b[1;32mIn[4], line 2\u001b[0m\n\u001b[0;32m      1\u001b[0m spam \u001b[39m=\u001b[39m \u001b[39m-\u001b[39m\u001b[39m369\u001b[39m\n\u001b[1;32m----> 2\u001b[0m \u001b[39massert\u001b[39;00m spam \u001b[39m>\u001b[39m\u001b[39m=\u001b[39m\u001b[39m0\u001b[39m,\u001b[39m'\u001b[39m\u001b[39mSpam value should not be a -ve number\u001b[39m\u001b[39m'\u001b[39m\n",
      "\u001b[1;31mAssertionError\u001b[0m: Spam value should not be a -ve number"
     ]
    }
   ],
   "source": [
    "spam = -369\n",
    "assert spam >=0,'Spam value should not be a -ve number'"
   ]
  },
  {
   "attachments": {},
   "cell_type": "markdown",
   "metadata": {},
   "source": [
    "**2. Write an assert statement that triggers an AssertionError if the variables eggs and bacon contain strings that are the same as each other, even if their cases are different (that is, 'hello' and 'hello' are considered the same, and 'goodbye' and 'GOODbye' are also considered the same).**<br>\n",
    "Ans:"
   ]
  },
  {
   "cell_type": "code",
   "execution_count": 8,
   "metadata": {},
   "outputs": [
    {
     "ename": "AssertionError",
     "evalue": "Eggs/Bacon should not be same, which are same now",
     "output_type": "error",
     "traceback": [
      "\u001b[1;31m---------------------------------------------------------------------------\u001b[0m",
      "\u001b[1;31mAssertionError\u001b[0m                            Traceback (most recent call last)",
      "Cell \u001b[1;32mIn[8], line 5\u001b[0m\n\u001b[0;32m      3\u001b[0m     bacon \u001b[39m=\u001b[39m bacon\u001b[39m.\u001b[39mupper()\n\u001b[0;32m      4\u001b[0m     \u001b[39massert\u001b[39;00m \u001b[39mnot\u001b[39;00m(egg \u001b[39m==\u001b[39m bacon), \u001b[39m'\u001b[39m\u001b[39mEggs/Bacon should not be same, which are same now\u001b[39m\u001b[39m'\u001b[39m\n\u001b[1;32m----> 5\u001b[0m exception_assert(\u001b[39m'\u001b[39;49m\u001b[39mgood morning\u001b[39;49m\u001b[39m'\u001b[39;49m,\u001b[39m'\u001b[39;49m\u001b[39mGOOD MORNING\u001b[39;49m\u001b[39m'\u001b[39;49m)\n",
      "Cell \u001b[1;32mIn[8], line 4\u001b[0m, in \u001b[0;36mexception_assert\u001b[1;34m(egg, bacon)\u001b[0m\n\u001b[0;32m      2\u001b[0m egg \u001b[39m=\u001b[39m egg\u001b[39m.\u001b[39mupper()\n\u001b[0;32m      3\u001b[0m bacon \u001b[39m=\u001b[39m bacon\u001b[39m.\u001b[39mupper()\n\u001b[1;32m----> 4\u001b[0m \u001b[39massert\u001b[39;00m \u001b[39mnot\u001b[39;00m(egg \u001b[39m==\u001b[39m bacon), \u001b[39m'\u001b[39m\u001b[39mEggs/Bacon should not be same, which are same now\u001b[39m\u001b[39m'\u001b[39m\n",
      "\u001b[1;31mAssertionError\u001b[0m: Eggs/Bacon should not be same, which are same now"
     ]
    }
   ],
   "source": [
    "def exception_assert(egg,bacon):\n",
    "    egg = egg.upper()\n",
    "    bacon = bacon.upper()\n",
    "    assert not(egg == bacon), 'Eggs/Bacon should not be same, which are same now'\n",
    "exception_assert('good morning','GOOD MORNING')"
   ]
  },
  {
   "attachments": {},
   "cell_type": "markdown",
   "metadata": {},
   "source": [
    "**3. Create an assert statement that throws an AssertionError every time.**<br>\n",
    "Ans:"
   ]
  },
  {
   "cell_type": "code",
   "execution_count": 13,
   "metadata": {},
   "outputs": [
    {
     "ename": "AssertionError",
     "evalue": " always Assertion Error ",
     "output_type": "error",
     "traceback": [
      "\u001b[1;31m---------------------------------------------------------------------------\u001b[0m",
      "\u001b[1;31mAssertionError\u001b[0m                            Traceback (most recent call last)",
      "Cell \u001b[1;32mIn[13], line 3\u001b[0m\n\u001b[0;32m      1\u001b[0m \u001b[39mdef\u001b[39;00m \u001b[39massert_always\u001b[39m():\n\u001b[0;32m      2\u001b[0m     \u001b[39massert\u001b[39;00m \u001b[39mFalse\u001b[39;00m, \u001b[39m'\u001b[39m\u001b[39m always Assertion Error \u001b[39m\u001b[39m'\u001b[39m \u001b[39m# assert is false that Shows every time an Assertion Error\u001b[39;00m\n\u001b[1;32m----> 3\u001b[0m assert_always()\n",
      "Cell \u001b[1;32mIn[13], line 2\u001b[0m, in \u001b[0;36massert_always\u001b[1;34m()\u001b[0m\n\u001b[0;32m      1\u001b[0m \u001b[39mdef\u001b[39;00m \u001b[39massert_always\u001b[39m():\n\u001b[1;32m----> 2\u001b[0m     \u001b[39massert\u001b[39;00m \u001b[39mFalse\u001b[39;00m, \u001b[39m'\u001b[39m\u001b[39m always Assertion Error \u001b[39m\u001b[39m'\u001b[39m\n",
      "\u001b[1;31mAssertionError\u001b[0m:  always Assertion Error "
     ]
    }
   ],
   "source": [
    "def assert_always():\n",
    "    assert False, ' Assertion Error ' # assert is false that Shows every time an Assertion Error\n",
    "assert_always()"
   ]
  },
  {
   "attachments": {},
   "cell_type": "markdown",
   "metadata": {},
   "source": [
    "**4. What are the two lines that must be present in your software in order to call logging.debug()?**<br>\n",
    "Ans:"
   ]
  },
  {
   "cell_type": "code",
   "execution_count": 12,
   "metadata": {},
   "outputs": [],
   "source": [
    "import logging \n",
    "logging.basicConfig(filename='Log_file.txt', level=logging.DEBUG, format=' %(asctime)s - %(levelname)s - %(message)s')"
   ]
  },
  {
   "attachments": {},
   "cell_type": "markdown",
   "metadata": {},
   "source": [
    "**5. What are the two lines that your program must have in order to have logging.debug() send a logging message to a file named programLog.txt?**<br>\n",
    "Ans:"
   ]
  },
  {
   "cell_type": "code",
   "execution_count": 2,
   "metadata": {},
   "outputs": [
    {
     "name": "stdout",
     "output_type": "stream",
     "text": [
      " 2023-03-08 00:17:02,791 - DEBUG - Connection Opened\n",
      "\n",
      " 2023-03-08 00:17:02,791 - DEBUG - Connection Closed \n",
      "\n"
     ]
    }
   ],
   "source": [
    "import logging\n",
    "logging.basicConfig(filename = 'programLog.txt',level=logging.DEBUG, format=' %(asctime)s - %(levelname)s - %(message)s')\n",
    "logging.debug('Connection Opened')\n",
    "logging.debug('Connection Closed ')\n",
    "# log file output\n",
    "file = open(\"./log_file.txt\",\"r\")\n",
    "for read in file.readlines():\n",
    "    print(read)"
   ]
  },
  {
   "attachments": {},
   "cell_type": "markdown",
   "metadata": {},
   "source": [
    "**6. What are the five levels of logging?**<br>\n",
    "Ans: Log messages can have 5 levels - `DEBUG`, `INGO`, `WARNING`, `ERROR` and `CRITICAL`. They can also include traceback information for exceptions. Logs can be especially useful in case of errors to help identify their cause.<br>\n",
    "\n",
    "**7. What line of code would you add to your software to disable all logging messages?**<br>\n",
    "Ans: `logging.disable('DEBUG')`<br>\n",
    "\n",
    "**8.Why is using logging messages better than using print() to display the same message?**<br>\n",
    "Ans: The only time when print() is a better option than logging is when the goal is to display a help statement for a command line application.\n",
    "The log record which is created with every logging event, contains readily available dingostic information.As opposed to just printing the errors, logging can be configured to disable output or save to a file. This is a big advantage to simply printing the errors.<br>\n",
    "\n",
    "**9.What are the differences between the Step Over, Step In, and Step Out buttons in the debugger?**<br>\n",
    "Ans: The Differences between Step Over, Step In, Step Out buttons in debugger are:<br>\n",
    "\n",
    "Step in - Step In button will cause the debugger to execute the next line of code and then pause again.<br>\n",
    "Step Over - Step Over button will execute the next line of code, similar to the Step In button. However, if the next line of code is a function call, the Step Over button will “step over” the code in the function. The function’s code will be executed at full speed, and the debugger will pause as soon as the function call returns.<br>\n",
    "Step out - Step Out button will cause the debugger to execute lines of code at full speed until it returns from the current function.<br>\n",
    "\n",
    "**10.After you click Continue, when will the debugger stop ?**<br>\n",
    "Ans: program will continue to runs normally after you click Continue,without stopping the debug process utill it reaches a breakpoint.<br>\n",
    "\n",
    "**11. What is the concept of a breakpoint?**<br>\n",
    "Ans: One way to address this problem and gain better control over code where to break your code is to insert a breakpoint directly into the code. this will cause the debugger to pause."
   ]
  }
 ],
 "metadata": {
  "kernelspec": {
   "display_name": "Python 3",
   "language": "python",
   "name": "python3"
  },
  "language_info": {
   "codemirror_mode": {
    "name": "ipython",
    "version": 3
   },
   "file_extension": ".py",
   "mimetype": "text/x-python",
   "name": "python",
   "nbconvert_exporter": "python",
   "pygments_lexer": "ipython3",
   "version": "3.11.2"
  },
  "orig_nbformat": 4
 },
 "nbformat": 4,
 "nbformat_minor": 2
}
