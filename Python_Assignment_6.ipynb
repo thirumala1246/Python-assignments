{
  "nbformat": 4,
  "nbformat_minor": 0,
  "metadata": {
    "colab": {
      "provenance": []
    },
    "kernelspec": {
      "name": "python3",
      "display_name": "Python 3"
    },
    "language_info": {
      "name": "python"
    }
  },
  "cells": [
    {
      "cell_type": "markdown",
      "source": [
        "**1.What are Escape characters ? and how do you use them ?**<br>\n",
        "Ans:Some characters(like \",\\) cannot be directly included in a string. Such characters must be escaped by placing a backslash before them. python got confused as to where the string starts and ends.we need to specify that some single or double quotes does not indicate the end of string with help of escape sequence.<br>\n",
        "`Example:\\,\\t,\\n`\n",
        "<br>\n",
        "<br>\n",
        "\n",
        "**2.What do the escape characters n and t stand for ?**<br>\n",
        "Ans: `\\n` is a newline and `\\t` is inserts tab in a string.\n",
        "<br>\n",
        "<br>\n",
        "\n",
        "**3.What is the way to include backslash character in a string?**<br>\n",
        "Ans: we need two backslashs characters `\\\\` to include backslash character in a string.\n",
        "<br>\n",
        "<br>\n",
        "\n",
        "**4.The string \"Howl's Moving Castle\" is a correct value. Why isn't the single quote character in the word Howl's not escaped a problem ?**<br>\n",
        "Ans: single quote in Howl's is fine because we have to use double quotes to mark the beginning and end of the string and we have to use escape character \\' to show single quote in the `Howl's`.\n",
        "<br>\n",
        "<br>\n",
        "\n",
        "**5.How do you write a string of newlines if you don't want to use the n character?**<br>\n",
        "Ans:\n",
        "we need to use triple quotes (like''' statements ''') without using `\\n` escape character\n"
      ],
      "metadata": {
        "id": "9fj7bkonzNo2"
      }
    },
    {
      "cell_type": "code",
      "source": [
        "data = ''' statement 1\n",
        "statement 2\n",
        "statement 3 '''\n",
        "print(data)"
      ],
      "metadata": {
        "colab": {
          "base_uri": "https://localhost:8080/"
        },
        "id": "uEm4xfYk3g7L",
        "outputId": "5a7b19a2-e55a-4fe6-819f-2c93130a80f2"
      },
      "execution_count": null,
      "outputs": [
        {
          "output_type": "stream",
          "name": "stdout",
          "text": [
            " statement 1\n",
            "statement 2\n",
            "statement 3 \n"
          ]
        }
      ]
    },
    {
      "cell_type": "markdown",
      "source": [
        "**6.What are the values of the given expressions ?**<br>\n",
        "**'Hello, world!'[1]**<br>\n",
        "**'Hello, world!'[0:5]**<br>\n",
        "**'Hello, world!'[:5]**<br>\n",
        "**'Hello, world!'[3:]**<br>\n",
        "Ans:The values for the given expressions are:<br>\n",
        "'Hello, world!'[1] `Output :` 'e'<br>\n",
        "'Hello, world!'[0:5] `Output :` 'Hello'<br>\n",
        "'Hello, world!'[:5] `Output :` 'Hello'<br>\n",
        "'Hello, world!'[3:] `Output :` 'lo, world!'<br>\n",
        "<br>\n",
        "\n",
        "**7.What are the values of the following expressions ?**<br>\n",
        "**'Hello'.upper()**<br>\n",
        "**'Hello'.upper().isupper()**<br>\n",
        "**'Hello'.upper().lower()**<br>\n",
        "Ans:The values for the given expressions are:<br>\n",
        "'Hello'.upper() `Output :` 'HELLO'<br>\n",
        "'Hello'.upper().isupper() `Output :` True<br>\n",
        "'Hello'.upper().lower() `Output :` 'hello'<br>\n",
        "<br>\n",
        "\n",
        "**8.What are the values of the following expressions ?**<br>\n",
        "**'Remember, remember, the fifith of July.'.split()**<br>\n",
        "**-'.join('There can only one'.split())**<br>\n",
        "Ans: The values for the given expressions are:<br>\n",
        "'Remember, remember, the fifith of July.'.split() `Output :` ['Remember,', 'remember,', 'the', 'fifith', 'of', 'July.']<br>\n",
        "'-'.join('There can only one'.split()) `Output :` 'There-can-only-one'<br>\n",
        "<br>\n",
        "\n",
        "**9.What are the methods for right-justifying, left-justifying and centering a string ?**<br>\n",
        "Ans:right-justifying `Output :` rjust()<br>,left-justifying `Output :` ljust()<br>,centering `Output :` center()<br> in string methods.<br>\n",
        "<br>\n",
        "\n",
        "**10.What is the best way to remove whitespace characters from the start or end ?**<br>\n",
        "Ans: strip() method remove whitespace at starts and end of the string.lstrip() and rstrip() methods remove whitesapce characters from the left and right ends of a string respectively."
      ],
      "metadata": {
        "id": "TmxocYGo4KEP"
      }
    }
  ]
}