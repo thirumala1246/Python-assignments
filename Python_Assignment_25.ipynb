{
  "nbformat": 4,
  "nbformat_minor": 0,
  "metadata": {
    "colab": {
      "provenance": []
    },
    "kernelspec": {
      "name": "python3",
      "display_name": "Python 3"
    },
    "language_info": {
      "name": "python"
    }
  },
  "cells": [
    {
      "cell_type": "markdown",
      "source": [
        "**1. What is the difference between enclosing a list comprehension in square brackets and parentheses?** <br>\n",
        "A. list comprehension in square brackets returns a list.but where as enclosing a list comprehension in parentheses returns a `generator` object."
      ],
      "metadata": {
        "id": "--cE2ztl3yBu"
      }
    },
    {
      "cell_type": "code",
      "source": [
        "l = [i for i in range(10)]\n",
        "print(l, type(l))\n",
        "g = (i for i in range(10))\n",
        "print(g, type(g))"
      ],
      "metadata": {
        "colab": {
          "base_uri": "https://localhost:8080/"
        },
        "id": "gS7FJJPK4Pne",
        "outputId": "7d12eee9-ef46-4831-99e5-371d483e0f07"
      },
      "execution_count": 1,
      "outputs": [
        {
          "output_type": "stream",
          "name": "stdout",
          "text": [
            "[0, 1, 2, 3, 4, 5, 6, 7, 8, 9] <class 'list'>\n",
            "<generator object <genexpr> at 0x7fc3fbe41460> <class 'generator'>\n"
          ]
        }
      ]
    },
    {
      "cell_type": "markdown",
      "source": [
        "**2. What is the relationship between generators and iterators?** <br>\n",
        "A.When iterating through `iterable` objects like lists, tuples, sets, etc., an iterator is an object with a countable number of values. A class is used to implement iterators. It is based on lazy evaluation, which lets us avoid repetitive evaluation by putting the expression's evaluation on wait and storing it in memory until the item is specifically requested for. As soon as lazy evaluation is applied, only one memory location is needed to process a value, which reduces RAM wastage and eliminates the need to load the full dataset at once when employing a large dataset.An iterator should: To create an iterator that contains an iterable object, use the `iter()` keyword.The iterable object's next element can be called with the keyword `next()`. <br>\n",
        "Another simple technique to generate iterators is to use generators, which swap the word given for the return statement in a defined function. A function is used to implement generators. Generators use the same principles of lazy evaluation as iterators. The yield function in this case just returns the data without changing or stopping the function. As they will not store the complete sequence in memory, it will return a sequence of data in an iterable format that we must iterate over in order to use the data. <br>\n"
      ],
      "metadata": {
        "id": "OTPw6cVe4cDl"
      }
    },
    {
      "cell_type": "code",
      "source": [
        "# Example of iterartor\n",
        "iter_str = iter(['iNeuron','Full','Stack','Data Science'])\n",
        "print(type(iter_str))\n",
        "print(next(iter_str))\n",
        "print(next(iter_str))\n",
        "print(next(iter_str))\n",
        "print(next(iter_str))\n",
        "print(iter_str) \n",
        "\n",
        "# Example of Generator\n",
        "def cube_numbers(in_num):\n",
        "    for ele in range(in_num+1):\n",
        "        yield ele**2\n",
        "\n",
        "out_num = cube_numbers(6)\n",
        "print(next(out_num))\n",
        "print(next(out_num))\n",
        "print(next(out_num))\n",
        "print(next(out_num))\n",
        "print(next(out_num))"
      ],
      "metadata": {
        "colab": {
          "base_uri": "https://localhost:8080/"
        },
        "id": "3Uu82DN-6P1e",
        "outputId": "550ed589-d1bb-4e5e-aac9-a1745b2b4859"
      },
      "execution_count": 5,
      "outputs": [
        {
          "output_type": "stream",
          "name": "stdout",
          "text": [
            "<class 'list_iterator'>\n",
            "iNeuron\n",
            "Full\n",
            "Stack\n",
            "Data Science\n",
            "<list_iterator object at 0x7fc3fbe62320>\n",
            "0\n",
            "1\n",
            "4\n",
            "9\n",
            "16\n"
          ]
        }
      ]
    },
    {
      "cell_type": "markdown",
      "source": [
        "**3. What are the signs that a function is a generator function?** <br>\n",
        "A. A generator function uses a yield statement instead of a return statement. A generator function will always return a iterable object called generator. where as a normal function can return a string/list/tuple/dict/NoneType ... etc. <br>\n",
        "**4. What is the purpose of a yield statement?** <br>\n",
        "A.The yield statement suspends function’s execution and sends a value back to the caller, but retains enough state to enable function to resume where it is left off. When resumed, the function continues execution immediately after the last yield run. This allows its code to produce a series of values over time, rather than computing them at once and sending them back like a list. <br>\n",
        "**5. What is the relationship between map calls and list comprehensions? Make a comparison and contrast between the two ?** <br>\n",
        "A.The main differences between map calls and list comprehensiosn are: <br>\n",
        "\n",
        "1.List comprehension is more concise and easier to read as compared to map. <br>\n",
        "2.List comprehension allows filtering. In map, we have no such facility. For example, to print all odd numbers in range of 50, we can write `[n for n in range(50) if n%2 != 0]`. There is no alternate for it in map. <br>\n",
        "3.List comprehension are used when a list of results is required as final output.but map only returns a map object. it needs to be explicitly coverted to desired datatype. <br>\n",
        "4.List comprehension is faster than map when we need to evaluate expressions that are too long or complicated to express. <br>\n",
        "5.Map is faster in case of calling an already defined function on a set of values. <br>"
      ],
      "metadata": {
        "id": "mTr6J8A66lX9"
      }
    }
  ]
}