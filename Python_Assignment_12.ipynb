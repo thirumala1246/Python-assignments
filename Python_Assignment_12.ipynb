{
 "cells": [
  {
   "attachments": {},
   "cell_type": "markdown",
   "metadata": {},
   "source": [
    "**1. In what modes should the PdfFileReader() and PdfFileWriter() File objects will be opened?**<br>\n",
    "Ans:  `import PyPDF2` <br> `pdfFileObj = open('filename.pdf', 'rb')` <br> `pdfReader = PyPDF2.PdfFileReader(pdfFileObj)`<br>\n",
    "first import the PYPDF2 module then open the pdf file in read binary mode to get a PdfFileReader object that represents this PDF.`PdfFileReader()` file should be opened in '`rb'` mode.<br>`pdfWriter = PyPDF2.PdfFileWriter()`<br>`resultPdf = open('encryptedminutes.pdf', 'wb')` <br> `pdfWriter.write(resultPdf)` <br>PdfFileWriter() should be opened in `'wb'`- write binary mode.\n",
    "<br>\n",
    "**2. From a PdfFileReader object, how do you get a Page object for page 5?**<br>\n",
    "Ans: page starts from 0 and for page 5 - calling getPage(4)"
   ]
  },
  {
   "cell_type": "code",
   "execution_count": null,
   "metadata": {
    "vscode": {
     "languageId": "plaintext"
    }
   },
   "outputs": [],
   "source": [
    "import PyPDF2 as pdf\n",
    "pdfFileObj = open(\"file_obj1.pdf\",'rb')\n",
    "pdfReader = pdf.PdfFileReader(pdfFileObj)\n",
    "pageObj = pdfReader.getPage(4)\n",
    "pageObj.extractText()"
   ]
  },
  {
   "attachments": {},
   "cell_type": "markdown",
   "metadata": {},
   "source": [
    "**3. What PdfFileReader variable stores the number of pages in the PDF document?**<br>\n",
    "Ans: "
   ]
  },
  {
   "cell_type": "code",
   "execution_count": null,
   "metadata": {
    "vscode": {
     "languageId": "plaintext"
    }
   },
   "outputs": [],
   "source": [
    "import PyPDF2 as pdf\n",
    "pdfFileObj = open(\"file_obj1.pdf\",'rb')\n",
    "pdfReader = pdf.PdfFileReader(pdfFileObj)\n",
    "print(pdfReader.getnNumPages())"
   ]
  },
  {
   "attachments": {},
   "cell_type": "markdown",
   "metadata": {},
   "source": [
    "**4. If a PdfFileReader object’s PDF is encrypted with the password swordfish, what must you do before you can obtain Page objects from it?**<br>\n",
    "Ans: In example ,we copied the pages of file_obj1.pdf to a PdfFileWriter object. We encrypted the PdfFileWriter with the password swordfish, opened a new PDF called encrypt_file_obj1.pdf, and wrote the contents of the PdfFileWriter to the new PDF. "
   ]
  },
  {
   "cell_type": "code",
   "execution_count": null,
   "metadata": {
    "vscode": {
     "languageId": "plaintext"
    }
   },
   "outputs": [],
   "source": [
    "import PyPDF2\n",
    "pdfFile = open('file_obj1.pdf', 'rb')\n",
    "finalPdf = open('encrypt_file_obj1.pdf', 'wb')\n",
    "pdfReader = PyPDF2.PdfFileReader(pdfFile)\n",
    "pdfWriter = PyPDF2.PdfFileWriter()\n",
    "for pageNum in range(pdfReader.numPages):\n",
    "    pdfWriter.addPage(pdfReader.getPage(pageNum))\n",
    "pdfWriter.encrypt('swordfish')\n",
    "pdfWriter.write(finalPdf)\n",
    "finalPdf.close()"
   ]
  },
  {
   "attachments": {},
   "cell_type": "markdown",
   "metadata": {},
   "source": [
    "**5. What methods do you use to rotate a page?**<br>\n",
    "Ans:PDF can also be rotated in 90-degree increments with the `rotateClockwise()` and `rotateCounterClockwise()` methods. Pass one of the integers 90, 180, or 270 to these methods.<br>\n",
    "\n",
    "**6. What is the difference between a Run object and a Paragraph object?**<br>\n",
    "Ans: Paragraph objects:The Document object contains a list of Paragraph objects for the paragraphs in the document. (A new paragraph begins whenever the user presses ENTER or RETURN while typing in a Word document.) Each of these Paragraph objects contains a list of one or more Run objects. <br>\n",
    "Run objects:A Run object is a contiguous run of text with the same style. A new Run object is needed whenever the text style changes.<br>\n",
    "note:new Paragraph objects can be added only to the end of the document, and new Run objects can be added only to the end of a Paragraph object.<br>\n",
    "\n",
    "**7. How do you obtain a list of Paragraph objects for a Document object that’s stored in a variable named doc?**<br>\n",
    "Ans:"
   ]
  },
  {
   "cell_type": "code",
   "execution_count": null,
   "metadata": {
    "vscode": {
     "languageId": "plaintext"
    }
   },
   "outputs": [],
   "source": [
    "from docx import Document\n",
    "doc = Document(\"file1.docx\") # Path of the Docx file\n",
    "print(doc.paragraphs) # Prints the list of Paragraph objects for a Document\n",
    "for paragraph in doc.paragraphs:\n",
    "    print(paragraph.text) # Prints the text in the paragraph\n"
   ]
  },
  {
   "attachments": {},
   "cell_type": "markdown",
   "metadata": {},
   "source": [
    "**8. What type of object has bold, underline, italic, strike, and outline variables?**<br>\n",
    "Ans: The text in a Word document is more than just a string. It has font, size, color, and other styling information associated with it. A style in Word is a collection of these attributes. A Run object is a contiguous run of text with the same style.<br>\n",
    "\n",
    "**9. What is the difference between False, True, and None for the bold variable?**<br>\n",
    "Ans: \n",
    "`bold = True  # Style Set to Bold`<br>\n",
    "`bold = False # Style Not Set to Bold`<br>\n",
    "`bold = None # Style is Not Applicable`<br>\n",
    "\n",
    "**10. How do you create a Document object for a new Word document?**<br>\n",
    "Ans:"
   ]
  },
  {
   "cell_type": "code",
   "execution_count": null,
   "metadata": {
    "vscode": {
     "languageId": "plaintext"
    }
   },
   "outputs": [],
   "source": [
    "import docx\n",
    "doc = docx.Document()\n",
    "# add text to document\n",
    "doc.save('hellodoc.docx')"
   ]
  },
  {
   "attachments": {},
   "cell_type": "markdown",
   "metadata": {},
   "source": [
    "**11. How do you add a paragraph with the text 'Hello, there!' to a Document object stored in a variable named doc?**<br>\n",
    "Ans: "
   ]
  },
  {
   "cell_type": "code",
   "execution_count": null,
   "metadata": {
    "vscode": {
     "languageId": "plaintext"
    }
   },
   "outputs": [],
   "source": [
    "import docx\n",
    "doc = docx.Document()\n",
    "doc.add_paragraph('Hello there!')\n",
    "doc.save('hellodoc.docx') "
   ]
  },
  {
   "attachments": {},
   "cell_type": "markdown",
   "metadata": {},
   "source": [
    "**12. What integers represent the levels of headings available in Word documents?**<br>\n",
    "Ans: The arguments to add_heading() are a string of the heading text and an integer from 0 to 4. The integer 0 makes the heading the Title style, which is used for the top of the document. Integers 1 to 4 are for various heading levels, with 1 being the main heading and 4 the lowest subheading. The add_heading() function returns a Paragraph object to save you the step of extracting it from the Document object as a separate step."
   ]
  }
 ],
 "metadata": {
  "language_info": {
   "name": "python"
  },
  "orig_nbformat": 4
 },
 "nbformat": 4,
 "nbformat_minor": 2
}
