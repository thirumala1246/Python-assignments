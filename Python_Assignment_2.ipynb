{
  "nbformat": 4,
  "nbformat_minor": 0,
  "metadata": {
    "colab": {
      "provenance": []
    },
    "kernelspec": {
      "name": "python3",
      "display_name": "Python 3"
    },
    "language_info": {
      "name": "python"
    }
  },
  "cells": [
    {
      "cell_type": "markdown",
      "source": [
        "#Python Assignment-2"
      ],
      "metadata": {
        "id": "uRjk_uGyWT_u"
      }
    },
    {
      "cell_type": "markdown",
      "source": [
        "**1.What are the two values of the Boolean data type? How do you write them?**\n"
      ],
      "metadata": {
        "id": "CTc4Bxd_WfrF"
      }
    },
    {
      "cell_type": "markdown",
      "source": [
        "Ans: A variable of boolean type can have one of the two value - True and False .the boolean variables are also created while we use assign a value or when we using relational operator on them"
      ],
      "metadata": {
        "id": "fpY6WDNQWrX-"
      }
    },
    {
      "cell_type": "code",
      "source": [
        "x=True\n",
        "y=False\n",
        "print('x value: ',x)\n",
        "print(type(x))\n",
        "print('y value: ',y)\n",
        "print(type(y))"
      ],
      "metadata": {
        "colab": {
          "base_uri": "https://localhost:8080/"
        },
        "id": "4qHhDjZjWm3d",
        "outputId": "94219b2d-30bb-45ee-84e1-5dcae2c835ba"
      },
      "execution_count": 2,
      "outputs": [
        {
          "output_type": "stream",
          "name": "stdout",
          "text": [
            "x value:  True\n",
            "<class 'bool'>\n",
            "y value:  False\n",
            "<class 'bool'>\n"
          ]
        }
      ]
    },
    {
      "cell_type": "markdown",
      "source": [
        "**2.What are the three different types of Boolean operators?**"
      ],
      "metadata": {
        "id": "GRYkI_ZIYYge"
      }
    },
    {
      "cell_type": "markdown",
      "source": [
        "Ans: The three differnt types of Boolean operators in python: and , or , not<br>\n",
        "-Logical `and`:\n",
        "<br>if expression on both the sides (left and right side )of the logical operator are true ,then whole expression is true. <br>\n",
        " -Logical `or`:\n",
        "<br>if one or both the expression of the logical operator are true ,then whole expression is true.<br>\n",
        " -Logical `not`:\n",
        "<br>The logical not operator takes as single expression and negates the value of the expression.if expression produces True. it just reverse the value of the expression."
      ],
      "metadata": {
        "id": "yFV6kUU0Zrte"
      }
    },
    {
      "cell_type": "code",
      "source": [
        "x=140\n",
        "y=200\n",
        "print('logical and :',x>50 and y>100)\n",
        "print('logical or :',x>200 or y>100)  \n",
        "print('logical not :',not(x>10))"
      ],
      "metadata": {
        "colab": {
          "base_uri": "https://localhost:8080/"
        },
        "id": "88T1JzDpYcMe",
        "outputId": "72654eda-32dc-44e8-bb41-2b713f615a34"
      },
      "execution_count": 7,
      "outputs": [
        {
          "output_type": "stream",
          "name": "stdout",
          "text": [
            "boolean and : True\n",
            "boolean or : True\n",
            "boolean not : False\n"
          ]
        }
      ]
    },
    {
      "cell_type": "markdown",
      "source": [
        "**3.Make a list of each Boolean operator&#39;s truth tables (i.e. every possible combination of Boolean\n",
        "values for the operator and what it evaluate ).**\n"
      ],
      "metadata": {
        "id": "o032v7XMcqPn"
      }
    },
    {
      "cell_type": "markdown",
      "source": [
        "Ans : The Truth tables for the boolean operator's are as follows:\n",
        
        "* Truth Table for logical `and` operaotor:<br>\n",
        "   *True and True is True* <br>\n",
        "  *True and False is False* <br>\n",
        "  *False and True is False* <br>\n",
        "  *False and False is False* <br>\n",
        "\n",
        "* Truth Table for logical `or` operaotor:<br>\n",
        "  *True and True is True* <br>\n",
        "  *True and False is True *<br>\n",
        "  *False and True is True *<br>\n",
        "  *False and False is False* <br>\n",
        "\n",
        "* Truth Table for logical `not` operaotor:<br>\n",
        "  *True not is False* <br>\n",
        "  *False not is True* <br>"
      ],
      "metadata": {
        "id": "vPvBQkmEdFwF"
      }
    },
    {
      "cell_type": "markdown",
      "source": [
        "**4.What are the values of the following expressions ?**\n",
        "* (5 > 4) and (3 == 5) - False\n",
        "* not (5 > 4) - False\n",
        "* (5 > 4) or (3 == 5) - True\n",
        "* not ((5 > 4) or (3 == 5)) - False\n",
        "* (True and True) and (True == False) - False\n",
        "* (not False) or (not True) - True\n",
        "\n"
      ],
      "metadata": {
        "id": "8kjM_Xz0ecYG"
      }
    },
    {
      "cell_type": "code",
      "source": [
        "print((5>4)and(3==5))\n",
        "print(not(5>4)) \n",
        "print((5>4)or(3==5)) \n",
        "print(not((5>4)or(3==5)))\n",
        "print((True and True)and(True==False)) \n",
        "print((not False)or(not True))"
      ],
      "metadata": {
        "colab": {
          "base_uri": "https://localhost:8080/"
        },
        "outputId": "f1d511b6-a234-40c2-9224-c8a0f975985f",
        "id": "PESQiUaFfm46"
      },
      "execution_count": null,
      "outputs": [
        {
          "output_type": "stream",
          "name": "stdout",
          "text": [
            "False\n",
            "False\n",
            "True\n",
            "False\n",
            "False\n",
            "True\n"
          ]
        }
      ]
    },
    {
      "cell_type": "markdown",
      "source": [
        "**5.What are the six comparison operators?**\n",
        "<br>Ans: The Six comparision operators available in python are:<br>\n",
        "== , != , < , > , <= , =>\n",
        "\n",
        "\n"
      ],
      "metadata": {
        "id": "I7w_6yOagHte"
      }
    },
    {
      "cell_type": "markdown",
      "source": [
        "**6.How do you tell the difference between the equal to and assignment operators?Describe a\n",
        "condition and when you would use one.**\n",
        "<br>Ans:<br> \n",
        "* equal to <br>\n",
        "  `==` is comparsion operator that return True if the two values are exactly equal. \n",
        "\n",
        "* assignment operator <br>\n",
        "  `=` assign value of the operand on the right side of the operator to the operand on the left."
      ],
      "metadata": {
        "id": "Yw_XIkidhsGe"
      }
    },
    {
      "cell_type": "code",
      "source": [
        "x=5 # Assignment operator =\n",
        "print(\"x value:\",x)\n",
        "if x==5:# equal to ==\n",
        "    print(x==5) "
      ],
      "metadata": {
        "colab": {
          "base_uri": "https://localhost:8080/"
        },
        "id": "U0bkOb0cjagH",
        "outputId": "ac5a415c-7f25-4714-fcde-b8cfd7cfe51b"
      },
      "execution_count": 11,
      "outputs": [
        {
          "output_type": "stream",
          "name": "stdout",
          "text": [
            "x value: 5\n",
            "True\n"
          ]
        }
      ]
    },
    {
      "cell_type": "markdown",
      "source": [
        "**7.Identify the three blocks in this code:**<br>\n",
        "spam = 0<br>\n",
        "if spam == 10:<br>\n",
        "print('eggs')<br>\n",
        "if spam > 5:<br>\n",
        "print('bacon')<br>\n",
        "else:<br>\n",
        "print('ham')<br>\n",
        "print('spam')<br>\n",
        "print('spam')<br>\n",
        "\n",
        "Ans:\n",
        " In Python, code block refers to a collection of code that is in the same block or indent. Most commonly found in classes, functions, and loops."
      ],
      "metadata": {
        "id": "EwUy49RWkI9X"
      }
    },
    {
      "cell_type": "code",
      "source": [
        "spam = 0\n",
        "if spam == 10:\n",
        "  print('eggs') # block-1 \n",
        "if spam > 5:\n",
        "  print('bacon')  # block-2\n",
        "else:\n",
        "  print('ham') # block-3\n",
        "print('spam')\n",
        "print('spam')"
      ],
      "metadata": {
        "colab": {
          "base_uri": "https://localhost:8080/"
        },
        "id": "qEDIF9Zpkf2X",
        "outputId": "f756015b-1311-4d16-a83a-140187958b0d"
      },
      "execution_count": 12,
      "outputs": [
        {
          "output_type": "stream",
          "name": "stdout",
          "text": [
            "ham\n",
            "spam\n",
            "spam\n"
          ]
        }
      ]
    },
    {
      "cell_type": "markdown",
      "source": [
        "**8.Write code that prints Hello if 1 is stored in spam, prints Howdy if 2 is stored in spam, and prints\n",
        "Greetings! if anything else is stored in spam.**"
      ],
      "metadata": {
        "id": "fd0QQnYtlrel"
      }
    },
    {
      "cell_type": "code",
      "source": [
        "\n",
        "def spams(s):\n",
        "    if s==1:\n",
        "        print('Hello')\n",
        "    elif s==2:\n",
        "        print('Howdy')\n",
        "    else:\n",
        "        print('Greetings')\n",
        "        \n",
        "spams(1) \n",
        "spams(2)\n",
        "spams(3)"
      ],
      "metadata": {
        "colab": {
          "base_uri": "https://localhost:8080/"
        },
        "id": "4_iJC6Pllp02",
        "outputId": "a32a9903-730d-419d-f9ee-ff4606a81908"
      },
      "execution_count": 15,
      "outputs": [
        {
          "output_type": "stream",
          "name": "stdout",
          "text": [
            "Hello\n",
            "Howdy\n",
            "Greetings\n"
          ]
        }
      ]
    },
    {
      "cell_type": "markdown",
      "source": [
        "**9.If your programme is stuck in an endless loop, what keys you’ll press?**<br>\n",
        "Ans: Press Ctrl-c to stop a program if the program is stuck in an infinite loop"
      ],
      "metadata": {
        "id": "wD8_hsfhmM21"
      }
    },
    {
      "cell_type": "markdown",
      "source": [
        "**10.How can you tell the difference between break and continue?**\n",
        "Ans: <br>\n",
        "* `Break`<br>\n",
        "  The break statement is used to terminate the execution of the nearest enclose loop in which it appears. mostly used in for loop and while loop.\n",
        "* `continue`<br>\n",
        "  when continue statement is encounter in a loop then the rest of the loop is skipped and the control is transferred to loop-continuation portion of the nearest enclose loop.\n",
        "\n"
      ],
      "metadata": {
        "id": "MTRXD73rmUbN"
      }
    },
    {
      "cell_type": "markdown",
      "source": [
        "**11.In a for loop, what is the difference between range(10), range(0, 10), and range(0, 10, 1)?** <br>\n",
        "Ans: The Differences are as follows:<br>\n",
        "\n",
        "* The range(10) call range start from 0 end with 9 (but not include 10)<br>\n",
        "* The range (0,10) explicitly tells the loop to start at 0<br>\n",
        "* The range(0,10,1) explicitly tells the loop to increase the variable by 1 on each iteration<br>"
      ],
      "metadata": {
        "id": "UOHCm0RbuVnv"
      }
    },
    {
      "cell_type": "markdown",
      "source": [
        "**12.Write a short program that prints the numbers 1 to 10 using a for loop. Then write an equivalent program that prints the numbers 1 to 10 using a while loop ?**"
      ],
      "metadata": {
        "id": "kihdL07Y07rP"
      }
    },
    {
      "cell_type": "code",
      "source": [
        "print('Using For')\n",
        "for i in range(1,11):\n",
        "    print(i, end=' ')\n",
        "print('\\n')\n",
        "\n",
        "print('Using While') \n",
        "i=1\n",
        "while i<=10:\n",
        "    print(i, end=' ')\n",
        "    i+=1"
      ],
      "metadata": {
        "colab": {
          "base_uri": "https://localhost:8080/"
        },
        "id": "hq8OYZPY3OL_",
        "outputId": "29c76dd0-c550-4188-cc98-60fe150c9d2d"
      },
      "execution_count": 17,
      "outputs": [
        {
          "output_type": "stream",
          "name": "stdout",
          "text": [
            "Using For Loop\n",
            "1 2 3 4 5 6 7 8 9 10 \n",
            "\n",
            "Using While Loop\n",
            "1 2 3 4 5 6 7 8 9 10 "
          ]
        }
      ]
    },
    {
      "cell_type": "markdown",
      "source": [
        "**13.If you had a function named bacon() inside a module named spam, how would you call it after importing spam ?**\n",
        "Ans: This bacon() function can be called by using dot spam.bacon()"
      ],
      "metadata": {
        "id": "urynm0Me3quf"
      }
    }
  ]
}
