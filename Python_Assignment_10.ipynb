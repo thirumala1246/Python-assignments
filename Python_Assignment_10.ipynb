{
 "cells": [
  {
   "attachments": {},
   "cell_type": "markdown",
   "metadata": {},
   "source": [
    "**1. How do you distinguish between shutil.copy() and shutil.copytree()?**<br>\n",
    "Ans:`shutil.copy()` Shutil is a built-in library meaning you do not need to use pip to install Shutil.shutil.copy() function accepts two arguments, the source path, the original path of the file, and the destination path, the path to which the file needs to be copied and then return the path to the newly created file.While shutil.copy() will copy a single file.<br>\n",
    "`shutil.copy(source_path, destination_path)`<br>\n",
    "`shutil.copytree()` will copy the folder at the path source, along with all of its files and subfolders, to the folder at the path destination. All intermediate directories needed to contain dst will also be created by default.Permissions and times of directories are copied with copystat(), individual files are copied using copy2().<br>\n",
    "`shutil.copytree(source, destination)`<br>\n",
    "\n",
    "**2. What function is used to rename files?**<br>\n",
    "Ans:`rename()` function file is a method used to rename a file or a directory in Python programming and can be declared by passing two arguments named src (Source) and dest (Destination).<br>\n",
    "**Syntax:**`os.rename(source_path, destination_path)`<br>\n",
    "\n",
    "**3. What is the difference between the delete functions in the send2trash and shutil modules?**<br>\n",
    "Ans:`send2trash` is a Python library that allows users to send files or directories to the trash or recycle bin instead of permanently deleting them. This is a useful feature for users who need to remove files from their system but may still need access to them in the future. Unlike the traditional method of permanently deleting files, send2trash sends files to the trash, where they can be recovered if necessary.`send2trash` is not included with python standard libary like `os` & `shutil` modules. it needs to be installed explicitly using the command `!pip install send2trash`.<br>\n",
    "`shutil.rmtree()` which deletes a directory and all its contents. The other functions with similar functionality are `os.remove()`.The problem with these functions is once a file is deleted and it will be lost permanently.<br>\n",
    "\n",
    "**4.ZipFile objects have a close() method just like File objects’ close() method. What ZipFile method is equivalent to File objects’ open() method?**<br>\n",
    "Ans:Open a ZIP file, where file can be a path to a file (a string).zipfile.`ZipFile(file,mode='r')`The mode parameter should be 'r' to read an existing file, 'w' to truncate and write a new file, 'a' to append to an existing file, or 'x' to exclusively create and write a new file. If mode is 'x' and file refers to an existing file, a FileExistsError will be raised. If mode is 'a' and file refers to an existing ZIP file, then additional files are added to it.<br>\n",
    "\n",
    "**5. Create a programme that searches a folder tree for files with a certain file extension (such as .pdf or .jpg). Copy these files from whatever location they are in to a new folder?**<br>\n",
    "Ans:"
   ]
  },
  {
   "cell_type": "code",
   "execution_count": 10,
   "metadata": {},
   "outputs": [
    {
     "name": "stdout",
     "output_type": "stream",
     "text": [
      "Folder Name : C:\\Users\\hruday\\Downloads\\py_assignment\n",
      "Sub Folders : []\n",
      "Files ➞ ['Python_Assignment_2.ipynb', 'Python_Assignment_3', 'Python_Assignment_3.ipynb', 'Python_Assignment_4.ipynb', 'Python_Assignment_5.ipynb', 'Python_Assignment_6.ipynb', 'Python_Assignment_7.ipynb', 'Python_Assignment_8.ipynb']\n",
      "Files copied successfully from C:\\Users\\hruday\\Downloads\\py_assignment to C:\\Users\\hruday\\Downloads\\py_assignment\\Python_Assignment_8\n"
     ]
    }
   ],
   "source": [
    "import os\n",
    "import shutil\n",
    "\n",
    "def search_copy(source,destination,extensions):\n",
    "    source = os.path.abspath(source)\n",
    "    destination = os.path.abspath(destination)\n",
    "    for foldername, subfolder, filenames in os.walk(source):\n",
    "        print(f'Folder Name : {foldername}',end='\\n')\n",
    "        print(f'Sub Folders : {subfolder}',end='\\n')\n",
    "        print(f'Files ➞ {filenames}',end='\\n')\n",
    "        for filename in filenames:\n",
    "            fileName,extension = os.path.splitext(filename)\n",
    "            if extension in extensions:\n",
    "                targetFile = foldername+os.path.sep+fileName+extension\n",
    "                shutil.copy(targetFile, destination)\n",
    "        print(f'Files copied successfully from {source} to {destination}')\n",
    "    \n",
    "ext = ['.pdf','.jpg','.ipynb']\n",
    "src = 'C:/Users/hruday/Downloads/py_assignment'\n",
    "dest = 'C:/Users/hruday/Downloads/py_assignment/Python_Assignment_10'\n",
    "search_copy(src,dest,ext)"
   ]
  }
 ],
 "metadata": {
  "kernelspec": {
   "display_name": "Python 3",
   "language": "python",
   "name": "python3"
  },
  "language_info": {
   "codemirror_mode": {
    "name": "ipython",
    "version": 3
   },
   "file_extension": ".py",
   "mimetype": "text/x-python",
   "name": "python",
   "nbconvert_exporter": "python",
   "pygments_lexer": "ipython3",
   "version": "3.11.2"
  },
  "orig_nbformat": 4
 },
 "nbformat": 4,
 "nbformat_minor": 2
}
