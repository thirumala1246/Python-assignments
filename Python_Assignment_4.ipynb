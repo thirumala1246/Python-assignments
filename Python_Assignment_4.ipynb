{
  "nbformat": 4,
  "nbformat_minor": 0,
  "metadata": {
    "colab": {
      "provenance": []
    },
    "kernelspec": {
      "name": "python3",
      "display_name": "Python 3"
    },
    "language_info": {
      "name": "python"
    }
  },
  "cells": [
    {
      "cell_type": "markdown",
      "source": [
        "**1.What exactly is [ ]?**<br>\n",
        "Ans: it an empty list [] which has no items in it.we can assign empty list to a variable in program.empty list has length of 0. we can add items to empty list by using append() and insert() methods."
      ],
      "metadata": {
        "id": "A6P_ZLRLSxFV"
      }
    },
    {
      "cell_type": "markdown",
      "source": [
        "**2.In a list of values stored in a variable called spam, how would you assign the value 'hello' as the third value? (Assume [2, 4, 6, 8, 10] are in spam.)**<br>\n",
        "Ans:"
      ],
      "metadata": {
        "id": "0PB3phaPey3C"
      }
    },
    {
      "cell_type": "code",
      "source": [
        "spam=[2,4,6,8,10]\n",
        "print(spam)\n",
        "spam[2]='hello' #indexing starts from zero \n",
        "spam"
      ],
      "metadata": {
        "colab": {
          "base_uri": "https://localhost:8080/"
        },
        "id": "54NM7R-7Zt2I",
        "outputId": "c85bf3eb-d969-418d-b2ee-907ec9fabb07"
      },
      "execution_count": null,
      "outputs": [
        {
          "output_type": "stream",
          "name": "stdout",
          "text": [
            "[2, 4, 6, 8, 10]\n"
          ]
        },
        {
          "output_type": "execute_result",
          "data": {
            "text/plain": [
              "[2, 4, 'hello', 8, 10]"
            ]
          },
          "metadata": {},
          "execution_count": 13
        }
      ]
    },
    {
      "cell_type": "markdown",
      "source": [
        "**Let&#39;s pretend the spam includes the list [&#39;a&#39;, &#39;b&#39;, &#39;c&#39;, &#39;d&#39;] for the next three queries.**\n",
        "<br>\n",
        "<br>\n",
        "**3.What is the value of spam[int(int('3'*2)//11)] ?**<br>\n",
        "Ans:# '3' * 2 is the string '33', which is cast into int() then 33 divided by 11 is 3 in int type and spam[3] is equal to d"
      ],
      "metadata": {
        "id": "-Myz2mOkaGwS"
      }
    },
    {
      "cell_type": "code",
      "source": [
        "spam=['a','b','c','d']\n",
        "print(\"spam[int(int('3'*2)//11)] :\",spam[int(int('3'*2)//11)])\n"
      ],
      "metadata": {
        "colab": {
          "base_uri": "https://localhost:8080/"
        },
        "id": "3uc2d4mDcKbI",
        "outputId": "3d34f515-d553-4ddd-bd55-3f95e72147b9"
      },
      "execution_count": null,
      "outputs": [
        {
          "output_type": "stream",
          "name": "stdout",
          "text": [
            "spam[int(int('3'*2)//11)] : d\n"
          ]
        }
      ]
    },
    {
      "cell_type": "markdown",
      "source": [
        "**4.What is the value of spam[-1]?**<br>\n",
        "Ans: 'd' Negative indexing being with -1 from backwards"
      ],
      "metadata": {
        "id": "FEbVoYetdUSR"
      }
    },
    {
      "cell_type": "code",
      "source": [
        "spam=['a','b','c','d']\n",
        "print('spam[-1] : ',spam[-1])"
      ],
      "metadata": {
        "colab": {
          "base_uri": "https://localhost:8080/"
        },
        "id": "H56z48agpu6f",
        "outputId": "ef796ebf-6066-4671-caf2-3f177544cdde"
      },
      "execution_count": null,
      "outputs": [
        {
          "output_type": "stream",
          "name": "stdout",
          "text": [
            "spam[-1] :  d\n"
          ]
        }
      ]
    },
    {
      "cell_type": "markdown",
      "source": [
        "**5.What is the value of spam[:2]?**<br>\n",
        "Ans: spam[:2] returns all values in spam from 0 to 2 excluding 2"
      ],
      "metadata": {
        "id": "rcNBtDlqqQWu"
      }
    },
    {
      "cell_type": "code",
      "source": [
        "spam=['a','b','c','d']\n",
        "print(spam[:2])"
      ],
      "metadata": {
        "colab": {
          "base_uri": "https://localhost:8080/"
        },
        "id": "HTQTS0FXwj7n",
        "outputId": "5c4fe280-73d2-4a81-e6db-d2a923268e9d"
      },
      "execution_count": null,
      "outputs": [
        {
          "output_type": "stream",
          "name": "stdout",
          "text": [
            "['a', 'b']\n"
          ]
        }
      ]
    },
    {
      "cell_type": "markdown",
      "source": [
        "**Let's pretend bacon has the list [3.14,'cat',11,'cat',True] for the next three question**\n",
        "<br>\n",
        "<br>\n",
        "**6.What is the value of bacon.index('cat')?**\n",
        "<br>\n",
        "Ans: The index of bacon.index('cat') is 1\n"
      ],
      "metadata": {
        "id": "h-z9bmzuwrv9"
      }
    },
    {
      "cell_type": "code",
      "source": [
        "bacon=[3.14,'cat',11,'cat',True]\n",
        "print(\"bacon.index('cat') :\",bacon.index('cat'))"
      ],
      "metadata": {
        "colab": {
          "base_uri": "https://localhost:8080/"
        },
        "id": "fNbAn6_7yEx1",
        "outputId": "e89f24d8-aca7-4f67-bf7a-b07632578d09"
      },
      "execution_count": null,
      "outputs": [
        {
          "output_type": "stream",
          "name": "stdout",
          "text": [
            "bacon.index('cat') : 1\n"
          ]
        }
      ]
    },
    {
      "cell_type": "markdown",
      "source": [
        "**7. How does bacon.append(99) change the look of the list value in bacon?**<br>\n",
        "Ans: append() method adds new elements to the end of the list"
      ],
      "metadata": {
        "id": "_a90o5b4yTRI"
      }
    },
    {
      "cell_type": "code",
      "source": [
        "print(bacon)\n",
        "bacon.append(99) \n",
        "print(bacon)"
      ],
      "metadata": {
        "colab": {
          "base_uri": "https://localhost:8080/"
        },
        "id": "SGJOlqjsykFJ",
        "outputId": "3a184ddb-8e69-450a-845c-f4029a2e0bff"
      },
      "execution_count": null,
      "outputs": [
        {
          "output_type": "stream",
          "name": "stdout",
          "text": [
            "[3.14, 'cat', 11, 'cat', True]\n",
            "[3.14, 'cat', 11, 'cat', True, 99]\n"
          ]
        }
      ]
    },
    {
      "cell_type": "markdown",
      "source": [
        "**8. How does bacon.remove('cat') change the look of the list in bacon?**\n",
        "<br>\n",
        "Ans:remove method removes the first occurence of the element in the list"
      ],
      "metadata": {
        "id": "SVvDORmUy9y1"
      }
    },
    {
      "cell_type": "code",
      "source": [
        "print(bacon)\n",
        "bacon.remove('cat')\n",
        "print(bacon)"
      ],
      "metadata": {
        "colab": {
          "base_uri": "https://localhost:8080/"
        },
        "id": "Jc-7d8ZXzvuk",
        "outputId": "9e49d216-405b-4aa8-a9c8-7b359843021b"
      },
      "execution_count": null,
      "outputs": [
        {
          "output_type": "stream",
          "name": "stdout",
          "text": [
            "[3.14, 'cat', 11, 'cat', True, 99]\n",
            "[3.14, 11, 'cat', True, 99]\n"
          ]
        }
      ]
    },
    {
      "cell_type": "markdown",
      "source": [
        "**9.what are the list concatenation and list replication operations?**<br>\n",
        "Ans:operator for list concatenation is + and operator for list replication is *"
      ],
      "metadata": {
        "id": "KwglUoS-0MPo"
      }
    },
    {
      "cell_type": "code",
      "source": [
        "# Example\n",
        "list_1 = [1,2,3,4]\n",
        "list_2 = [5,6,7,8,9]\n",
        "print(\"List Concatenation: \",list_1 + list_2)\n",
        "print(\"List Replication: \",list_2*2)"
      ],
      "metadata": {
        "colab": {
          "base_uri": "https://localhost:8080/"
        },
        "id": "PbTqlNO-0yk_",
        "outputId": "f01c98d7-ac3f-452e-c418-132791c4602f"
      },
      "execution_count": null,
      "outputs": [
        {
          "output_type": "stream",
          "name": "stdout",
          "text": [
            "[1, 2, 3, 4, 5, 6, 7, 8, 9]\n",
            "[5, 6, 7, 8, 9, 5, 6, 7, 8, 9]\n"
          ]
        }
      ]
    },
    {
      "cell_type": "markdown",
      "source": [
        "**10.what is the difference between the list method append() and insert()?**<br>\n",
        "Ans: append() add values to end of a list, insert() will add value anywhere in the list."
      ],
      "metadata": {
        "id": "0MSIebpN1eBp"
      }
    },
    {
      "cell_type": "code",
      "source": [
        "#Examples\n",
        "list = [1,2,3,4]\n",
        "list.append(5)\n",
        "print(list)\n",
        "list.insert(2,'insert')\n",
        "print(list)"
      ],
      "metadata": {
        "colab": {
          "base_uri": "https://localhost:8080/"
        },
        "id": "gSfH_H2D2EgK",
        "outputId": "bfa5c656-896e-490a-beb8-f20624d4bb1c"
      },
      "execution_count": null,
      "outputs": [
        {
          "output_type": "stream",
          "name": "stdout",
          "text": [
            "[1, 2, 3, 4, 5]\n",
            "[1, 2, 'insert', 3, 4, 5]\n"
          ]
        }
      ]
    },
    {
      "cell_type": "markdown",
      "source": [
        "**11.What are the two methods for removing items from a list?**<br>\n",
        "Ans:remove() method removes the first occurred element and pop() method removes an element from given index in the list."
      ],
      "metadata": {
        "id": "eVLhEF0E2o9Q"
      }
    },
    {
      "cell_type": "markdown",
      "source": [
        "**12. Describe how list values and string values are identical.**<br>\n",
        "Ans:Lists are mutable but Strings are immutable.string is a sequence of characters either single or double quotes. A list is a sequence of items, where each item could be anything (an integer, a float, a string, etc).Both strings and lists have lengths: a string's length is the number of characters in the string; a list's length is the number of items in the list.\n",
        "\n",
        "<br>\n",
        "<br>\n",
        "\n",
        "**13. What's the difference between tuples and lists?**\n",
        "<br>\n",
        "Ans: tuples are immutable and lists which are mutable. we can change list by adding element but not tuples.Lists consume more memory than tuples.list has several built-in methods than tuples.\n",
        "\n",
        "<br>\n",
        "<br>\n",
        "\n",
        "**14. How do you type a tuple value that only contains the integer 42?**<br>\n",
        "Ans:(4,)comma is mandatory, otherwise its considered as a int"
      ],
      "metadata": {
        "id": "6yZJ37SD8adG"
      }
    },
    {
      "cell_type": "code",
      "source": [
        "tup1=(4,)\n",
        "print(type(tup1))"
      ],
      "metadata": {
        "colab": {
          "base_uri": "https://localhost:8080/"
        },
        "id": "Y1XUtIKwrY91",
        "outputId": "89c535a3-e6d6-4780-ebfe-5d04405f81e0"
      },
      "execution_count": 2,
      "outputs": [
        {
          "output_type": "stream",
          "name": "stdout",
          "text": [
            "<class 'tuple'>\n"
          ]
        }
      ]
    },
    {
      "cell_type": "markdown",
      "source": [
        "**15. How do you get a list value's tuple form? How do you get a tuple value's list form?**<br>\n",
        "Ans: tuple() and list() functions are used to convert a tuple to list and list to tuple.\n",
        "<br>\n",
        "<br>\n",
        "\n",
        "**16. Variables that \"contain\" list values are not necessarily lists themselves. Instead, what do they contain?**<br>\n",
        "Ans:They contain references to list values rather than list values themselves.\n",
        "<br>\n",
        "<br>\n",
        "\n",
        "**17. How do you distinguish between copy.copy() and copy.deepcopy()?**<br>\n",
        "Ans:The copy.copy() function will do a shallow copy of a list, while the copy.deepcopy() function will do a deep copy of a list. that is deepcopy() function can copy the list of list(nested list)."
      ],
      "metadata": {
        "id": "el8jv5mzsKVk"
      }
    }
  ]
}