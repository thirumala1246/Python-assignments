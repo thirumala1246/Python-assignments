{
  "nbformat": 4,
  "nbformat_minor": 0,
  "metadata": {
    "colab": {
      "provenance": []
    },
    "kernelspec": {
      "name": "python3",
      "display_name": "Python 3"
    },
    "language_info": {
      "name": "python"
    }
  },
  "cells": [
    {
      "cell_type": "markdown",
      "source": [
        "**1. Is the Python Standard Library included with PyInputPlus?**<br>\n",
        "Ans: No, `PyInputPlus` is not a part of Python Standard Library, it needs to be installed explicitly using the command `!pip install PyInputPlus`\n",
        "<br>\n",
        "\n",
        "**2. Why is PyInputPlus commonly imported with import pyinputplus as pypi?**<br>\n",
        "Ans: You can import the module with `import pyinputplus as pyip` so that you can enter a shorthand name `pyip` when calling the module's functions.\n",
        "<br>\n",
        "\n",
        "**3. How do you distinguish between inputInt() and inputFloat()?**<br>\n",
        "Ans:`inputInt()` function accepts an integer values and it return only integer.it also as additional parameters `min`,`max`,`greaterThan` and `lessThan`.<br>\n",
        "`inputFloat()` function accepts an floating-point numeric values and it return only float values.it also as additional parameters `min`,`max`,`greaterThan` and `lessThan`.\n",
        "<br>\n",
        "\n",
        "**4. Using PyInputPlus, how do you ensure that the user enters a whole number between 0 and 99?**<br>\n",
        "Ans:`PyInputPlus` module provides a function called as `inputInt()` which only returns only integer values. inorder to restrict the input between `0` and `99`, i'll use parameters min & max to ensure the user had enter the value inbetween range only.\n"
      ],
      "metadata": {
        "id": "kqWPVORROZOZ"
      }
    },
    {
      "cell_type": "code",
      "source": [
        "!pip install pyinputplus\n",
        "import pyinputplus as pyip\n",
        "wholenumber = pyip.inputInt(prompt='Enter a number: ', min=0, max=99)\n",
        "print(wholenumber)"
      ],
      "metadata": {
        "id": "ljBQSWLxBm1K"
      },
      "execution_count": null,
      "outputs": []
    },
    {
      "cell_type": "markdown",
      "source": [
        "**5. What is transferred to the keyword arguments allowRegexes and blockRegexes?**<br>\n",
        "Ans:`allowRegexes` and `blockRegexes` keyword arguments to take list of regular expression strings to determine what the pyinputplus function will reject or accept valid input.<br>\n",
        "\n",
        "**6. If a blank input is entered three times, what does inputStr(limit=3) do?**<br>\n",
        "Ans:first it will throw `ValidationException` exception.By default `inputStr()` will not allowed blank values but it consider blank values after we set `blank=True`.<br>\n",
        "second it will throw `RetryLimitException` when we have reached the max limit we have specified by using `limit` parameter. inorder to avoid this exception we can use default parameter to return a default value when max limit is reached.\n",
        "<br>\n",
        "\n",
        "**If blank input is entered three times, what does inputStr(limit=3, default='hello') do?**<br>\n",
        "Ans: if blank input is entered three times.it will not throw `RetryLimitException` exception. `inputStr(limit=3, default='hello')` function will return `hello` as response to calling function.because default parameter is set to `hello`"
      ],
      "metadata": {
        "id": "7lGp6-1FB31D"
      }
    }
  ]
}