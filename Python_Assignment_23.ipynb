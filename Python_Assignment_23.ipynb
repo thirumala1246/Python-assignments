{
  "nbformat": 4,
  "nbformat_minor": 0,
  "metadata": {
    "colab": {
      "provenance": []
    },
    "kernelspec": {
      "name": "python3",
      "display_name": "Python 3"
    },
    "language_info": {
      "name": "python"
    }
  },
  "cells": [
    {
      "cell_type": "markdown",
      "source": [
        "**1. What is the result of the code, and why?** <br>\n",
        "`>>> def func(a, b=6, c=8):` <br>\n",
        "`print(a, b, c)` <br>\n",
        "`>>> func(1, 2)` <br>\n",
        "A.The following code will print `1 2 8`. its because the function uses the default value of c ie 8 which is provided at the time of declaration."
      ],
      "metadata": {
        "id": "2FGMk9XZwRbe"
      }
    },
    {
      "cell_type": "code",
      "source": [
        "def func(a,b=6,c=8):\n",
        "    print(a,b,c)\n",
        "func(1,2)"
      ],
      "metadata": {
        "colab": {
          "base_uri": "https://localhost:8080/"
        },
        "id": "X6uhoq8A9VaC",
        "outputId": "99ca6b14-fd13-41fc-8fa0-f841fc6283ce"
      },
      "execution_count": 1,
      "outputs": [
        {
          "output_type": "stream",
          "name": "stdout",
          "text": [
            "1 2 8\n"
          ]
        }
      ]
    },
    {
      "cell_type": "markdown",
      "source": [
        "**2. What is the result of this code, and why?** <br>\n",
        "`>>> def func(a, b, c=5):` <br>\n",
        "`print(a, b, c)` <br>\n",
        "`>>> func(1, c=3, b=2)` <br>\n",
        "A.The following code will print `1 2 3`. it is because the function will use default values only when a value for a argument is not provided and if argument name is mentioned while doing a function call, the order of arguments is also ignored by the python interpreter"
      ],
      "metadata": {
        "id": "uxRnuO5F-EHG"
      }
    },
    {
      "cell_type": "code",
      "source": [
        "def func(a,b,c=5):\n",
        "    print(a,b,c)\n",
        "func(1,c=3,b=2)"
      ],
      "metadata": {
        "colab": {
          "base_uri": "https://localhost:8080/"
        },
        "id": "8rXkDahWCQ9I",
        "outputId": "bba78e39-395b-420c-b28c-9315474df539"
      },
      "execution_count": 2,
      "outputs": [
        {
          "output_type": "stream",
          "name": "stdout",
          "text": [
            "1 2 3\n"
          ]
        }
      ]
    },
    {
      "cell_type": "markdown",
      "source": [
        "**3. How about this code: what is its result, and why?** <br>\n",
        "`>>> def func(a, *pargs):` <br>\n",
        "`print(a, pargs)` <br>\n",
        "`>>> func(1, 2, 3)` <br>\n",
        "A.The following code will print `1 2 3`. `*pargs` stands for variable length arguments. this format is used when we are not sure about the no of arguments to be passed to a function. all the values under this argument will be stored in a tuple."
      ],
      "metadata": {
        "id": "yLzyE2rGCfH-"
      }
    },
    {
      "cell_type": "code",
      "source": [
        "def func(a, *pargs):\n",
        "    print(a,pargs)\n",
        "func(1,2,3)"
      ],
      "metadata": {
        "colab": {
          "base_uri": "https://localhost:8080/"
        },
        "id": "1bb28EOTEPmL",
        "outputId": "c3c37c1c-c7f6-4312-8787-66425d5b3faf"
      },
      "execution_count": 3,
      "outputs": [
        {
          "output_type": "stream",
          "name": "stdout",
          "text": [
            "1 (2, 3)\n"
          ]
        }
      ]
    },
    {
      "cell_type": "markdown",
      "source": [
        "**4. What does this code print, and why?** <br>\n",
        "`>>> def func(a, **kargs):` <br>\n",
        "`print(a, kargs)` <br>\n",
        "`>>> func(a=1, c=3, b=2)` <br>\n",
        "A.The following code will print 1 {'c': 3, 'b': 2}. **args stands for variable length keyword arguments. this format is used when we want pass key value pairs as input to a function. All these key value pairs will be stored in a dictionary."
      ],
      "metadata": {
        "id": "70i5S5qGES60"
      }
    },
    {
      "cell_type": "code",
      "source": [
        "def func(a,**kargs):\n",
        "    print(a,kargs)\n",
        "func(a=1,c=3,b=2)"
      ],
      "metadata": {
        "colab": {
          "base_uri": "https://localhost:8080/"
        },
        "id": "FIM_cOv7GFLQ",
        "outputId": "1fec5a30-b3e2-416e-a16b-8855aca6b42a"
      },
      "execution_count": 4,
      "outputs": [
        {
          "output_type": "stream",
          "name": "stdout",
          "text": [
            "1 {'c': 3, 'b': 2}\n"
          ]
        }
      ]
    },
    {
      "cell_type": "markdown",
      "source": [
        "**5. What gets printed by this, and explain?** <br>\n",
        "`>>> def func(a, b, c=8, d=5): print(a, b, c, d)` <br>\n",
        "`>>> func(1, *(5, 6))` <br>\n",
        "A.The following code will print `1 5 6 5`. This reason for this function not throwing an error is because, this function expects 4 arguments. the value for a is provided explicitly whereas for arguments b and c, the function will expand the *(5,6) and consider the value of b as 5 and value of c as 6. since the default value of d is provided in function declaration d value will be 5. However it is recommended to use the feature of positional arguments at the end."
      ],
      "metadata": {
        "id": "4x-TEOOzGNhn"
      }
    },
    {
      "cell_type": "code",
      "source": [
        "def func(a,b,c=8,d=5):\n",
        "    print(a,b,c,d)\n",
        "func(1,*(5,6))"
      ],
      "metadata": {
        "colab": {
          "base_uri": "https://localhost:8080/"
        },
        "id": "CX2gjDrGGzXp",
        "outputId": "fada0657-e5e7-45ec-f846-b4bd797c9da9"
      },
      "execution_count": 5,
      "outputs": [
        {
          "output_type": "stream",
          "name": "stdout",
          "text": [
            "1 5 6 5\n"
          ]
        }
      ]
    },
    {
      "cell_type": "markdown",
      "source": [
        "**6. what is the result of this, and explain?** <br>\n",
        "`>>> def func(a, b, c): a = 2; b[0] = 'x'; c['a'] = 'y'` <br>\n",
        "`>>> l=1; m=[1]; n={'a':0}` <br>\n",
        "`>>> func(l, m, n)` <br>\n",
        "`>>> l, m, n` <br>\n",
        "A.The output of above code is `1, ['x'], {'a': 'y'}`.  <br>\n",
        "\n",
        "1.Eventhough Python gives importance to indentation. its provides a facility to declare an entire function in one single line. where statements in a function body are sepereated by  `;` <br>\n",
        "2.When l,m,n are provided as inputs to the function. its modifies the values of l,m,n and sets the value of `l=2 ,m=['x']` and `n={'a':'y'}` <br>"
      ],
      "metadata": {
        "id": "eFmwqQgPHV14"
      }
    },
    {
      "cell_type": "code",
      "source": [
        "def func(a, b, c): a = 2; b[0] = 'x'; c['a'] = 'y'\n",
        "l=1; m=[1]; n={'a':0}\n",
        "func(l, m, n)\n",
        "l,m,n"
      ],
      "metadata": {
        "colab": {
          "base_uri": "https://localhost:8080/"
        },
        "id": "dHbUq3cSIRsO",
        "outputId": "80bef606-5a2c-48a1-de97-08869d6c4a8f"
      },
      "execution_count": 6,
      "outputs": [
        {
          "output_type": "execute_result",
          "data": {
            "text/plain": [
              "(1, ['x'], {'a': 'y'})"
            ]
          },
          "metadata": {},
          "execution_count": 6
        }
      ]
    }
  ]
}