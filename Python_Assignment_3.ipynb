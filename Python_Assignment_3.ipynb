{
  "nbformat": 4,
  "nbformat_minor": 0,
  "metadata": {
    "colab": {
      "provenance": []
    },
    "kernelspec": {
      "name": "python3",
      "display_name": "Python 3"
    },
    "language_info": {
      "name": "python"
    }
  },
  "cells": [
    {
      "cell_type": "markdown",
      "source": [
        "**1.Why are functions advantageous to have in your programs?**<br>\n",
        "Ans: Code reuse is one of the reason to use function.Once a function is written,it can be called multiple times within the same or by a different program wherever its functionality is required.\n"
      ],
      "metadata": {
        "id": "lKN2vnaDWzyT"
      }
    },
    {
      "cell_type": "markdown",
      "source": [
        "**2.When does the code in a function run: when it's specified or when it's called?**<br>\n",
        "Ans: Code in a function execute when the function is called, not when the function is specified."
      ],
      "metadata": {
        "id": "6S9FyZYmZNik"
      }
    },
    {
      "cell_type": "markdown",
      "source": [
        "**3.What statement creates a function?**<br>\n",
        "Ans: The def statement defines a function<br>\n",
        "*Syntax of Function:<br>\n",
        "def function_name(parameters): <br>\n",
        "-----function body-----<br>\n",
        "\"\"\" Statements\"\"\" <br>\n",
        "-----function body-----<br> \n",
        "return value*<br>"
      ],
      "metadata": {
        "id": "ocNeSPOcZtQ1"
      }
    },
    {
      "cell_type": "markdown",
      "source": [
        "**4.What is the difference between a function and a function call?**<br>\n",
        "Ans: A function is a set of instructions or procedures to perform a specific task and To execute a function, we have to call it. Only when it is specifically called, a function will execute and give the required output."
      ],
      "metadata": {
        "id": "xZup-ABqamBC"
      }
    },
    {
      "cell_type": "markdown",
      "source": [
        "**5. How many global scopes are there in a Python program? How many local scopes?**<br>\n",
        "Ans:one Global scope which are defined in main body of th e program file and a local scope are within a function it is created whenever a function is called"
      ],
      "metadata": {
        "id": "nDKq222Nq0ve"
      }
    },
    {
      "cell_type": "markdown",
      "source": [
        "**6.What happens to variables in a local scope when the function call returns?**<br>\n",
        "Ans:the variable in local scope is terminated at the end of function in which it is defined and it exist as along as function is executing."
      ],
      "metadata": {
        "id": "Gwni2oMq2qtJ"
      }
    },
    {
      "cell_type": "markdown",
      "source": [
        "**7. What is the concept of a return value? Is it possible to have a return value in an expression?**\n",
        "<br>\n",
        "Ans:Return statement is the last instruction in function. Return value in expression is written in brackets.the expression is evaluated and result is returned to its calling function."
      ],
      "metadata": {
        "id": "h3UIKjwy22AM"
      }
    },
    {
      "cell_type": "markdown",
      "source": [
        "**8.If a function does not have a return statement, what is the return value of a call to that function?**<br>\n",
        "Ans:If function has no return statement then its return value is None."
      ],
      "metadata": {
        "id": "ex2WTb6R4nIk"
      }
    },
    {
      "cell_type": "markdown",
      "source": [
        "**9. How do you make a function variable refer to the global variable?**<br>\n",
        "Ans:when we create a variable inside a function (a local variable), it can only be used within that function.global keyword, which helps to create global variables inside the function and which can be accessible in a global scope."
      ],
      "metadata": {
        "id": "wQAFEw9I903s"
      }
    },
    {
      "cell_type": "markdown",
      "source": [
        "**10.What is the data type of None?**<br>\n",
        "Ans: The data type of None is NoneType.\n",
        "\n"
      ],
      "metadata": {
        "id": "QhzvHC2I_T5t"
      }
    },
    {
      "cell_type": "markdown",
      "source": [
        "**11.What does the sentence import areallyourpetsnamederic do?**<br>\n",
        "Ans: import statement imports a module named areallyourpetsnamederic."
      ],
      "metadata": {
        "id": "yRPa5DUR_eDH"
      }
    },
    {
      "cell_type": "markdown",
      "source": [
        "**12.If you had a bacon() feature in a spam module, what would you call it after importing spam?**<br>\n",
        "Ans: This function can be called spam.bacon()."
      ],
      "metadata": {
        "id": "Vtq_J1zj_3_O"
      }
    },
    {
      "cell_type": "markdown",
      "source": [
        "**13.What can you do to save a programme from crashing if it encounters an error?**<br>\n",
        "Ans:we can handle error in our program by using try and expect block.the operation which can raise errors is placed inside the try block and the code that handle errors is written in except block."
      ],
      "metadata": {
        "id": "PI33_NvxAOo1"
      }
    },
    {
      "cell_type": "markdown",
      "source": [
        "**14. What is the purpose of the try clause? What is the purpose of the except clause?**<br>\n",
        "Ans:<br>\n",
        "try clause:\n",
        "if the code raised an error then control flow leaves this block immediately and goes to the except block.\n",
        "except clause:\n",
        "except block code is executed only if an error was raised in the try block. "
      ],
      "metadata": {
        "id": "rKmr29F-MtBN"
      }
    }
  ]
}