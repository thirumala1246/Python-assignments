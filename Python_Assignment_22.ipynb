{
  "nbformat": 4,
  "nbformat_minor": 0,
  "metadata": {
    "colab": {
      "provenance": []
    },
    "kernelspec": {
      "name": "python3",
      "display_name": "Python 3"
    },
    "language_info": {
      "name": "python"
    }
  },
  "cells": [
    {
      "cell_type": "markdown",
      "source": [
        "**1. What is the result of the code, and explain?** <br>\n",
        "`>>> X = 'iNeuron'` <br>\n",
        "`>>> def func():` <br>\n",
        "`print(X)` <br>\n",
        "`>>> func()` <br>\n",
        "A.the following code is going to print the `iNeuron`. `X` variable has the value `iNeuron`and also it in global variable. however there is no local variable inside the function then the function will only return the global variable value of `X`"
      ],
      "metadata": {
        "id": "kHfdYpILNoAb"
      }
    },
    {
      "cell_type": "code",
      "execution_count": 1,
      "metadata": {
        "colab": {
          "base_uri": "https://localhost:8080/"
        },
        "id": "oeZVK68BNM39",
        "outputId": "fbb0f36c-e44f-411c-8eeb-f41150bf9b66"
      },
      "outputs": [
        {
          "output_type": "stream",
          "name": "stdout",
          "text": [
            "iNeuron\n"
          ]
        }
      ],
      "source": [
        "X = 'iNeuron'\n",
        "def func():\n",
        "  print(X)\n",
        "func()"
      ]
    },
    {
      "cell_type": "markdown",
      "source": [
        "**2. What is the result of the code, and explain?** <br>\n",
        "`>>> X = 'iNeuron'` <br>\n",
        "`>>> def func():` <br>\n",
        "`X = 'NI!'` <br>\n",
        "`>>> func()` <br>\n",
        "`>>> print(X)` <br>\n",
        "A. the following code is going to print the `iNeuron`. `X` variable has the value `iNeuron`and also it in global variable. however there is no `print()` function inside the `func()` function to print `NI!` so when `func()` is executed it will not able to print anything. then `print()` function will only return the global variable value of `X` since the `print()` function outside the `func()` function."
      ],
      "metadata": {
        "id": "nlg6NkmaPl6G"
      }
    },
    {
      "cell_type": "code",
      "source": [
        "x = 'iNeuron'\n",
        "def func():\n",
        "  x = 'NI!'\n",
        "func()\n",
        "print(X)"
      ],
      "metadata": {
        "colab": {
          "base_uri": "https://localhost:8080/"
        },
        "id": "29IbXqtPQLR8",
        "outputId": "9e217ab9-26ed-4d78-bd36-6a0ccabb05d1"
      },
      "execution_count": 4,
      "outputs": [
        {
          "output_type": "stream",
          "name": "stdout",
          "text": [
            "iNeuron\n"
          ]
        }
      ]
    },
    {
      "cell_type": "markdown",
      "source": [
        "**3. What does this code print, and why?** <br>\n",
        "`>>> X = 'iNeuron'` <br>\n",
        "`>>> def func():` <br>\n",
        "`X = 'NI'` <br>\n",
        "`print(X)` <br>\n",
        "`>>> func()` <br>\n",
        "`>>> print(X)` <br>\n",
        "A. the following code is going to print `NI` and `iNeuron`. In the code we can observe that there are two variables. one is local variable `X` with value of `NI`  and another is global variable `X` with value of `iNeuron`. since the `func()` function has x with value of `NI` and `print()` function. At first, func() will print `NI` which is local variable `X` (value `NI`) and at last instruction will print the global variable `X` (value `iNeuron`)."
      ],
      "metadata": {
        "id": "D1th-F8zTJwM"
      }
    },
    {
      "cell_type": "code",
      "source": [
        "X = 'iNeuron'\n",
        "def func():\n",
        "  X = 'NI'\n",
        "  print(X)\n",
        "func()\n",
        "print(X)"
      ],
      "metadata": {
        "colab": {
          "base_uri": "https://localhost:8080/"
        },
        "id": "SXXCo-FvTln6",
        "outputId": "9759ae38-582e-4f0d-be5b-cbadfc5626a6"
      },
      "execution_count": 5,
      "outputs": [
        {
          "output_type": "stream",
          "name": "stdout",
          "text": [
            "NI\n",
            "iNeuron\n"
          ]
        }
      ]
    },
    {
      "cell_type": "markdown",
      "source": [
        "**4. What output does this code produce? Why?** <br>\n",
        "`>>> X = 'iNeuron'` <br>\n",
        "`>>> def func():` <br>\n",
        "`global X` <br>\n",
        "`X = 'NI'` <br>\n",
        "`>>> func()` <br>\n",
        "`>>> print(X)` <br>\n",
        "A. The output of the code is `NI`. the global keyword allows a variable to be accessible in the current scope. since we are using global keyword inside the function `func` it directly access the variable in `X` in global scope. and changes its value to `NI`. hence the output of the code is `NI`"
      ],
      "metadata": {
        "id": "y1j0u7e2W_2V"
      }
    },
    {
      "cell_type": "code",
      "source": [
        "X = 'iNeuron'\n",
        "def func():\n",
        "  global X\n",
        "  X = 'NI'\n",
        "func()\n",
        "print(X)"
      ],
      "metadata": {
        "colab": {
          "base_uri": "https://localhost:8080/"
        },
        "id": "s2bZvD8OXvKb",
        "outputId": "5df3d97a-c676-45ea-8f8d-d3bcdee838eb"
      },
      "execution_count": 6,
      "outputs": [
        {
          "output_type": "stream",
          "name": "stdout",
          "text": [
            "NI\n"
          ]
        }
      ]
    },
    {
      "cell_type": "markdown",
      "source": [
        "**5. What about this code—what’s the output, and why?** <br>\n",
        "`>>> X = 'iNeuron'` <br>\n",
        "`>>> def func():` <br>\n",
        "`X = 'NI'` <br>\n",
        "`def nested():` <br>\n",
        "`print(X)` <br>\n",
        "`nested()` <br>\n",
        "`>>> func()` <br>\n",
        "`>>> X` <br>\n",
        "A.The output of the code is `NI`. the reason for this output is if a function wants to access a variable, if its not available in its localscope. it looks for the variable in its global scope. similarly here also function `nested` looks for variable `X` in its global scope. hence the output of the code is `NI`."
      ],
      "metadata": {
        "id": "WfiSx1f2ZXjx"
      }
    },
    {
      "cell_type": "code",
      "source": [
        "X = 'iNeuron'\n",
        "def func():\n",
        "    X = 'NI'\n",
        "    def nested():\n",
        "        print(X)\n",
        "    nested()\n",
        "func()\n",
        "X"
      ],
      "metadata": {
        "colab": {
          "base_uri": "https://localhost:8080/",
          "height": 55
        },
        "id": "1xcbuARSaOtY",
        "outputId": "daf514e8-c379-4ca3-ef12-75853751f9ae"
      },
      "execution_count": 7,
      "outputs": [
        {
          "output_type": "stream",
          "name": "stdout",
          "text": [
            "NI\n"
          ]
        },
        {
          "output_type": "execute_result",
          "data": {
            "text/plain": [
              "'iNeuron'"
            ],
            "application/vnd.google.colaboratory.intrinsic+json": {
              "type": "string"
            }
          },
          "metadata": {},
          "execution_count": 7
        }
      ]
    },
    {
      "cell_type": "markdown",
      "source": [
        "**6. How about this code: what is its output in Python 3, and explain?** <br>\n",
        "`>>> def func():` <br>\n",
        "`X = 'NI'` <br>\n",
        "`def nested():` <br>\n",
        "`nonlocal X` <br>\n",
        "`X = 'Spam'` <br>\n",
        "`nested()` <br>\n",
        "`print(X)` <br>\n",
        "`>>> func()` <br>\n",
        "A.The output of the code is `Spam`. nonlocal keyword in python is used to declare a variable as not local.Hence the statement `X = \"Spam\"` is modified in the global scope. hence the output of `print(X)` statement is `Spam`"
      ],
      "metadata": {
        "id": "Nw1BNL1xaWKS"
      }
    },
    {
      "cell_type": "code",
      "source": [
        "def func():\n",
        "    X = 'NI'\n",
        "    def nested():\n",
        "        nonlocal X\n",
        "        X = 'Spam'\n",
        "    nested()\n",
        "    print(X)\n",
        "func()"
      ],
      "metadata": {
        "colab": {
          "base_uri": "https://localhost:8080/"
        },
        "id": "Ul4TjcMoax2y",
        "outputId": "31b11b22-f283-42df-a828-cd34f2e2a1ba"
      },
      "execution_count": 8,
      "outputs": [
        {
          "output_type": "stream",
          "name": "stdout",
          "text": [
            "Spam\n"
          ]
        }
      ]
    }
  ]
}