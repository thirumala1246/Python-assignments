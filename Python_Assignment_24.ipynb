{
  "nbformat": 4,
  "nbformat_minor": 0,
  "metadata": {
    "colab": {
      "provenance": []
    },
    "kernelspec": {
      "name": "python3",
      "display_name": "Python 3"
    },
    "language_info": {
      "name": "python"
    }
  },
  "cells": [
    {
      "cell_type": "markdown",
      "source": [
        "**1. What is the relationship between def statements and lambda expressions ?** <br>\n",
        "A.`def` statement is used to create a normal function. where as `lamba` expressions are used to create `Anonymous functions`. which can be assigned to a variable and can be called using the variable later in function. Lambda's body is a single expression. We simply type the result as an expression instead of explicitly returning it. Because it is limited to an expression, a lambda is less general than a def statement. <br>\n",
       
        "**2. What is the benefit of lambda?** <br>\n",
        "A.The following are some of the benefits of lambda expressions: <br>\n",
        "\n",
        "1.Can be used to create Nameless/Anonymous functions inside some complex functions if we are planning to use it only once. <br>\n",
        "2.Moderate to small functions can be created in a single line. <br>\n",
        "3.Fuctions created using lambda expressions can be assigned to a variable and can be used by simply calling the variable. <br>\n",
       
        "**3. Compare and contrast map, filter, and reduce.** <br>\n",
        "A.The differences between `map`, `filter` and `reduce` are:<br>\n",
        "\n",
        "1.`map()`: The `map()` function is a type of higher-order. This function takes another function as a parameter along with a sequence of iterables and returns an output after applying the function to each iterable present in the sequence. <br>\n",
        "2.`filter()`: The `filter()` function is used to create an output list consisting of values for which the function returns true. <br>\n",
        "3.`reduce()`: The `reduce()` function, as the name describes, applies a given function to the iterables and returns a single value.<br>\n",
        "<br>\n"
      ],
      "metadata": {
        "id": "UMrmWNTwwJd1"
      }
    },
    {
      "cell_type": "code",
      "source": [
        "from functools import reduce\n",
        "# map function\n",
        "print('Map ->',list(map(lambda x:x+x, [1,2,3,4])))\n",
        "# fitler function\n",
        "print('Filter ->',list(filter(lambda x:x%2 !=0, [1,2,3,4])))\n",
        "# reduce function\n",
        "print('Reduce ->',reduce(lambda x,y:x+y, [1,2,3,4,5,6]))"
      ],
      "metadata": {
        "colab": {
          "base_uri": "https://localhost:8080/"
        },
        "id": "09hsG9X4zGet",
        "outputId": "6c6a3801-eea9-45cc-fe67-13b0171f27cc"
      },
      "execution_count": 1,
      "outputs": [
        {
          "output_type": "stream",
          "name": "stdout",
          "text": [
            "Map -> [2, 4, 6, 8]\n",
            "Filter -> [1, 3]\n",
            "Reduce -> 21\n"
          ]
        }
      ]
    },
    {
      "cell_type": "markdown",
      "source": [
        "**4. What are function annotations, and how are they used?** <br>\n",
        "A.Function annotations provide a way of associating various parts of a function with arbitrary pythoncexpressions at compile time. <br>\n",
        "Annotations of simple parameters `def func(x: expression, y: expression = 20):` <br>\n",
        "Whereas the annotations for excess parameters are as −`def func (**args: expression, **kwargs: expression):` <br>\n",
        "**5. What are recursive functions, and how are they used?** <br>\n",
        "A.A recursive function is a function that calls itself during its execution. The process may repeat several times, outputting the result and the end of each iteration. <br>\n",
        "**6. What are some general design guidelines for coding functions?** <br>\n",
        "A. Some of the general design guidelines for coding functions are: <br>\n",
        "\n",
        "1.Always use a docstring to explain the functionality of the function. <br>\n",
        "2.avoid using or limited use of global variables <br>\n",
        "3.Proper Identation to increase the code readability <br>\n",
        "4.try to follow a naming convention for function  <br>names (pascalCase or camelCase) and stick with the same convention throughout the application. <br>\n",
        "5.Avoid using digits while choosing a variable name <br>\n",
        "6.try to use a name for the function which conveys the purpose of the function <br>\n",
        "7.Local variables should be named using camelCase format `(ex: localVariable)` whereas Global variables names should be using PascalCase `(ex:GlobalVariable)`. <br>\n",
        "8.Constant should be represented in allcaps `(ex:CONSTANT)`. <br>\n",
      
        "**7. Name three or more ways that functions can communicate results to a caller.** <br>\n",
        "A.Some of the ways in which a function can communicate with the calling function is: <br>\n",
        "\n",
        "1.print <br>\n",
        "2.return <br>\n",
        "3.yield <br>"
      ],
      "metadata": {
        "id": "yupgFwWDzNpU"
      }
    }
  ]
}
