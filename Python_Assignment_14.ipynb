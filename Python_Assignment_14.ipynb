{
  "nbformat": 4,
  "nbformat_minor": 0,
  "metadata": {
    "colab": {
      "provenance": []
    },
    "kernelspec": {
      "name": "python3",
      "display_name": "Python 3"
    },
    "language_info": {
      "name": "python"
    }
  },
  "cells": [
    {
      "cell_type": "markdown",
      "source": [
        "**1. What does RGBA stand for?** <br>\n",
        "A. RGBA stands for Red, Green, Blue and Alpha values. where Alpha is opacity value from 0 to 1 and RGB values range from 0 to 255. <br>\n",
        "**2. From the Pillow module, how do you get the RGBA value of any images?** <br>\n",
        "A. we can get RGBA value of any image by using `ImageColor. getcolor()` method. <br>\n",
        "**3. What is a box tuple, and how does it work?** <br>\n",
        "A. A box tuple has four integers tuple values: left-edge x-coordinate, top-edge y-coordinate, width, and height. <br>\n",
        "**4. Use your image and load in notebook then, How can you find out the width and height of an Image object?** <br>\n",
        "A. there are three different ways to find the width and height of a image."
      ],
      "metadata": {
        "id": "xpWOom-qVES6"
      }
    },
    {
      "cell_type": "code",
      "source": [
        "from PIL import Image\n",
        "pic = Image.open('/content/sample_data/Bugatti.jpg')\n",
        "print(f'Width, Height : {pic.size}') # 1st way\n",
        "print(f'Width, Height : {pic.width},{pic.height}') # 2nd way\n",
        "width,height = pic.size\n",
        "print(f'Width, Height : {width},{height}') # 3rd way"
      ],
      "metadata": {
        "colab": {
          "base_uri": "https://localhost:8080/"
        },
        "id": "5kdd1MbIbNE2",
        "outputId": "11867baf-4440-432f-b6ca-03932551d281"
      },
      "execution_count": 1,
      "outputs": [
        {
          "output_type": "stream",
          "name": "stdout",
          "text": [
            "Width, Height : (3556, 2000)\n",
            "Width, Height : 3556,2000\n",
            "Width, Height : 3556,2000\n"
          ]
        }
      ]
    },
    {
      "cell_type": "markdown",
      "source": [
        "**5. What method would you call to get Image object for a 100×100 image, excluding the lower-left quarter of it?** <br>\n",
        "A. "
      ],
      "metadata": {
        "id": "j74Ftl55cGld"
      }
    },
    {
      "cell_type": "code",
      "source": [
        "from PIL import Image\n",
        "img = Image.open('/content/sample_data/Bugatti.jpg')\n",
        "new_img = img.crop((0,750,750,750))"
      ],
      "metadata": {
        "id": "K3ZdUnIbdSuK"
      },
      "execution_count": null,
      "outputs": []
    },
    {
      "cell_type": "markdown",
      "source": [
        "**6. After making changes to an Image object, how could you save it as an image file?** <br>\n",
        "A."
      ],
      "metadata": {
        "id": "23KhXZyDdN92"
      }
    },
    {
      "cell_type": "code",
      "source": [
        "from PIL import Image\n",
        "pic = Image.open('/content/sample_data/Bugatti.jpg')\n",
        "pic.save('/content/sample_data/Bugatti(1).jpg')"
      ],
      "metadata": {
        "id": "d2WnSNftd_V1"
      },
      "execution_count": null,
      "outputs": []
    },
    {
      "cell_type": "markdown",
      "source": [
        "**7. What module contains Pillow’s shape-drawing code?** <br>\n",
        "A. Pillows ImageDraw module contains Shape drawing methods. <br>\n",
        "\n",
        "**8.Image objects do not have drawing methods. What kind of object does? How do you get this kind of object?** <br>\n",
        "A. ImageDraw objects have shape-drawing methods such as point(), line(), or rectangle(). it will returned by passing the Image object to the ImageDraw.Draw() method."
      ],
      "metadata": {
        "id": "N28bCV9-eDsj"
      }
    }
  ]
}