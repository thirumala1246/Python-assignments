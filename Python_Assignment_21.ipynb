{
  "nbformat": 4,
  "nbformat_minor": 0,
  "metadata": {
    "colab": {
      "provenance": []
    },
    "kernelspec": {
      "name": "python3",
      "display_name": "Python 3"
    },
    "language_info": {
      "name": "python"
    }
  },
  "cells": [
    {
      "cell_type": "markdown",
      "source": [
        "**1. Add the current date to the text file today.txt as a string.** <br>\n",
        "A."
      ],
      "metadata": {
        "id": "W7PbcUqOwSGY"
      }
    },
    {
      "cell_type": "code",
      "source": [
        "import datetime\n",
        "# Adding current date to the today.txt file\n",
        "file = open('today.txt','w')\n",
        "file.write(datetime.datetime.now().strftime(\"%d-%m-%Y\"))\n",
        "file.close()\n",
        "# Reading current date from today.txt file\n",
        "file = open('today.txt','r')\n",
        "print(file.read())\n",
        "file.close()"
      ],
      "metadata": {
        "colab": {
          "base_uri": "https://localhost:8080/"
        },
        "id": "puDqhsTFy3hC",
        "outputId": "eb797f96-e1e9-4a5c-c8b1-13c43b7e6dc3"
      },
      "execution_count": 1,
      "outputs": [
        {
          "output_type": "stream",
          "name": "stdout",
          "text": [
            "08-05-2023\n"
          ]
        }
      ]
    },
    {
      "cell_type": "markdown",
      "source": [
        "**2. Read the text file today.txt into the string today_string** <br>\n",
        "A."
      ],
      "metadata": {
        "id": "xZtfu408Bgsg"
      }
    },
    {
      "cell_type": "code",
      "source": [
        "file = open('today.txt','r')\n",
        "today_string = file.read()\n",
        "print(today_string)"
      ],
      "metadata": {
        "colab": {
          "base_uri": "https://localhost:8080/"
        },
        "id": "1UV4JySdBmOJ",
        "outputId": "07145158-98c4-44c7-b4c1-90d80822da70"
      },
      "execution_count": 2,
      "outputs": [
        {
          "output_type": "stream",
          "name": "stdout",
          "text": [
            "08-05-2023\n"
          ]
        }
      ]
    },
    {
      "cell_type": "markdown",
      "source": [
        "**3. Parse the date from today_string.** <br>\n",
        "A."
      ],
      "metadata": {
        "id": "fnG6botUBpNa"
      }
    },
    {
      "cell_type": "code",
      "source": [
        "from datetime import datetime\n",
        "parsed_data = datetime.strptime(today_string, '%d-%m-%Y')\n",
        "print(parsed_data)"
      ],
      "metadata": {
        "id": "dRXjCbR8BtUK"
      },
      "execution_count": null,
      "outputs": []
    },
    {
      "cell_type": "markdown",
      "source": [
        "**4. List the files in your current directory** <br>\n",
        "A.\n"
      ],
      "metadata": {
        "id": "iI6QrmBgBwLt"
      }
    },
    {
      "cell_type": "code",
      "source": [
        "import os\n",
        "for folders, subfolders, files in os.walk(os.getcwd()):\n",
        "    for file in files:\n",
        "        print(file)"
      ],
      "metadata": {
        "colab": {
          "base_uri": "https://localhost:8080/"
        },
        "id": "ILRRZLNGB2C6",
        "outputId": "e7fadbcd-54e2-4606-839f-82209a52947c"
      },
      "execution_count": 3,
      "outputs": [
        {
          "output_type": "stream",
          "name": "stdout",
          "text": [
            "today.txt\n",
            ".last_survey_prompt.yaml\n",
            "active_config\n",
            ".last_update_check.json\n",
            "config_sentinel\n",
            ".last_opt_in_prompt.yaml\n",
            "gce\n",
            "13.30.53.412375.log\n",
            "13.31.21.082174.log\n",
            "13.31.20.347025.log\n",
            "13.30.18.933743.log\n",
            "13.29.51.883151.log\n",
            "13.30.45.111331.log\n",
            "config_default\n",
            "anscombe.json\n",
            "README.md\n",
            "mnist_test.csv\n",
            "mnist_train_small.csv\n",
            "california_housing_test.csv\n",
            "california_housing_train.csv\n"
          ]
        }
      ]
    },
    {
      "cell_type": "markdown",
      "source": [
        "**5. Create a list of all of the files in your parent directory (minimum five files should be available).** <br>\n",
        "A."
      ],
      "metadata": {
        "id": "KsXrRSJMB7jc"
      }
    },
    {
      "cell_type": "code",
      "source": [
        "import os \n",
        "os.listdir()"
      ],
      "metadata": {
        "colab": {
          "base_uri": "https://localhost:8080/"
        },
        "id": "G2tg1LFcCCw_",
        "outputId": "443c10a0-2826-4db6-9bb6-47129d3440a4"
      },
      "execution_count": 4,
      "outputs": [
        {
          "output_type": "execute_result",
          "data": {
            "text/plain": [
              "['.config', 'today.txt', 'sample_data']"
            ]
          },
          "metadata": {},
          "execution_count": 4
        }
      ]
    },
    {
      "cell_type": "markdown",
      "source": [
        "**6. Use multiprocessing to create three separate processes. Make each one wait a random number of seconds between one and five, print the current time, and then exit.** <br>\n",
        "A.\n"
      ],
      "metadata": {
        "id": "v9qebR4MCGh2"
      }
    },
    {
      "cell_type": "code",
      "source": [
        "import multiprocessing\n",
        "import time \n",
        "import random\n",
        "import datetime\n",
        "\n",
        "def procOne():\n",
        "    print(f'first process Starttime -> {datetime.datetime.now()}')\n",
        "    time.sleep(random.randint(1,5))\n",
        "    print(f'first process Endtime -> {datetime.datetime.now()}')\n",
        "    \n",
        "def procTwo():\n",
        "    print(f'second process Starttime -> {datetime.datetime.now()}')\n",
        "    time.sleep(random.randint(1,5))\n",
        "    print(f'second process Endtime -> {datetime.datetime.now()}')\n",
        "\n",
        "def procThree():\n",
        "    print(f'third process Starttime -> {datetime.datetime.now()}')\n",
        "    time.sleep(random.randint(1,5))\n",
        "    print(f'third process Endtime -> {datetime.datetime.now()}')\n",
        "    \n",
        "if __name__ == \"__main__\":    \n",
        "    p1 = multiprocessing.Process(target=procOne)\n",
        "    p2 = multiprocessing.Process(target=procTwo)\n",
        "    p3 = multiprocessing.Process(target=procThree)\n",
        "\n",
        "    p1.start()\n",
        "    p2.start()\n",
        "    p3.start()\n",
        "\n",
        "    p1.join()\n",
        "    p2.join()\n",
        "    p3.join()"
      ],
      "metadata": {
        "colab": {
          "base_uri": "https://localhost:8080/"
        },
        "id": "l3kXkiumCLYd",
        "outputId": "16f48267-f7ed-490b-903e-3eb9f40e98c1"
      },
      "execution_count": 8,
      "outputs": [
        {
          "output_type": "stream",
          "name": "stdout",
          "text": [
            "second process Starttime -> 2023-05-08 11:09:50.701309\n",
            "first process Starttime -> 2023-05-08 11:09:50.694638\n",
            "third process Starttime -> 2023-05-08 11:09:50.720060\n",
            "third process Endtime -> 2023-05-08 11:09:51.730168\n",
            "second process Endtime -> 2023-05-08 11:09:52.712793\n",
            "first process Endtime -> 2023-05-08 11:09:54.719800\n"
          ]
        }
      ]
    },
    {
      "cell_type": "markdown",
      "source": [
        "**7. Create a date object of your day of birth.** <br>\n",
        "A."
      ],
      "metadata": {
        "id": "vCTLG7cdDqbu"
      }
    },
    {
      "cell_type": "code",
      "source": [
        "from datetime import datetime\n",
        "my_dob = datetime.strptime('22/03/2000','%d/%m/%Y')\n",
        "print(my_dob, type(my_dob))"
      ],
      "metadata": {
        "colab": {
          "base_uri": "https://localhost:8080/"
        },
        "id": "G6p20PeUDqPo",
        "outputId": "fb95f3ab-78da-4710-a44a-f4399d42d99a"
      },
      "execution_count": 9,
      "outputs": [
        {
          "output_type": "stream",
          "name": "stdout",
          "text": [
            "2000-03-22 00:00:00 <class 'datetime.datetime'>\n"
          ]
        }
      ]
    },
    {
      "cell_type": "markdown",
      "source": [
        "**8. What day of the week was your day of birth?** <br>\n",
        "A."
      ],
      "metadata": {
        "id": "J-mUztLND5TV"
      }
    },
    {
      "cell_type": "code",
      "source": [
        "from datetime import datetime\n",
        "my_dob = datetime(2000,3,22)\n",
        "my_dob.strftime(\"%A\")"
      ],
      "metadata": {
        "colab": {
          "base_uri": "https://localhost:8080/",
          "height": 36
        },
        "id": "252h-dK3D8cA",
        "outputId": "3b80943e-60f2-46ec-9d63-e1699e3bbd3a"
      },
      "execution_count": 11,
      "outputs": [
        {
          "output_type": "execute_result",
          "data": {
            "text/plain": [
              "'Wednesday'"
            ],
            "application/vnd.google.colaboratory.intrinsic+json": {
              "type": "string"
            }
          },
          "metadata": {},
          "execution_count": 11
        }
      ]
    },
    {
      "cell_type": "markdown",
      "source": [
        "**9. When will you be (or when were you) 10,000 days old?** <br>\n",
        "A."
      ],
      "metadata": {
        "id": "GgkaUaYpEAWM"
      }
    },
    {
      "cell_type": "code",
      "source": [
        "from datetime import datetime, timedelta\n",
        "dob = datetime.strptime(\"22/03/2000\",'%d/%m/%Y')\n",
        "future_date = dob-timedelta(10000)\n",
        "future_date\n"
      ],
      "metadata": {
        "colab": {
          "base_uri": "https://localhost:8080/"
        },
        "id": "1Ue_2xEVELF1",
        "outputId": "46104d15-f9a9-4b66-d689-fbc916ed713b"
      },
      "execution_count": 13,
      "outputs": [
        {
          "output_type": "execute_result",
          "data": {
            "text/plain": [
              "datetime.datetime(1972, 11, 4, 0, 0)"
            ]
          },
          "metadata": {},
          "execution_count": 13
        }
      ]
    }
  ]
}
