{
  "nbformat": 4,
  "nbformat_minor": 0,
  "metadata": {
    "colab": {
      "provenance": []
    },
    "kernelspec": {
      "name": "python3",
      "display_name": "Python 3"
    },
    "language_info": {
      "name": "python"
    }
  },
  "cells": [
    {
      "cell_type": "markdown",
      "source": [
        "# Assignment 1 \n",
        "\n",
        "####1. In the below elements which of them are values or an expression? eg:- values can be integer or string and expressions will be mathematical operators.\n",
        "*,'hello', -87.8,-,/,+,6\n",
        "\n",
        "Ans: There are total of 4 Operators and 3 Values, They are:<br>\n",
        "Operators: *,-,/,+<br>\n",
        "Values: 'hello', 87.8, 6"
      ],
      "metadata": {
        "id": "1v0iZx3aIyJM"
      }
    },
    {
      "cell_type": "markdown",
      "source": [
        "####2. What is the difference between string and variable?\n",
        "<br>\n",
        "Ans: Variable are reserved memory location that stores values.variable are examples of identifier and A string is a group of characters.if we want to use text in python, you have to use string. String is a type of information you would store in a Variable. A single character usually enclosed in Double quotes \" \" or single quotes ' '"
      ],
      "metadata": {
        "id": "ryvDkyc9LGDN"
      }
    },
    {
      "cell_type": "markdown",
      "source": [
        "####3. Describe three different Data Types ?\n",
        "Ans: Three fundamental Data types in python are int, float, complex.\n",
        "\n",
        "1.int data type: We can use int data type to represent whole numbers (integral values). <br>\n",
        "2.float data type: We can use float data type to represent floating point values (decimal values). <br>\n",
        "3.complex data type: Complex number is represented by complex class. It is specified as (real part) + (imaginary part)j."
      ],
      "metadata": {
        "id": "JTgqxAGiN30N"
      }
    },
    {
      "cell_type": "code",
      "source": [
        "#Examples\n",
        "# int data type\n",
        "int_num=4567\n",
        "print(int_num, type(int_num))\n",
        "# float data type\n",
        "float_num=1.2e3\n",
        "print(float_num, type(float_num))\n",
        "# Complex data type\n",
        "complex_num=12+2.5j\n",
        "print(complex_num, type(complex_num))"
      ],
      "metadata": {
        "colab": {
          "base_uri": "https://localhost:8080/"
        },
        "id": "rC0mypRhOrC2",
        "outputId": "bd882acb-ddd4-49d0-8a6d-65f08f9980f7"
      },
      "execution_count": 1,
      "outputs": [
        {
          "output_type": "stream",
          "name": "stdout",
          "text": [
            "4567 <class 'int'>\n",
            "1200.0 <class 'float'>\n",
            "(12+2.5j) <class 'complex'>\n"
          ]
        }
      ]
    },
    {
      "cell_type": "markdown",
      "source": [
        "####4. What is an expression made up of? What do all expressions do?\n",
        "Ans: An expression is a combination of (values, variables, operators) that represents a value. Expressions need to be evaluated. If we ask Python to print an expression, the interpreter evaluates the expression and displays the values.<br><br>\n",
        "When an expression has more than one operator. then the expression is evaluated using the operator precedence chart. "
      ],
      "metadata": {
        "id": "R2uI6YbWPhR1"
      }
    },
    {
      "cell_type": "code",
      "source": [
        "5+6*10/2"
      ],
      "metadata": {
        "colab": {
          "base_uri": "https://localhost:8080/"
        },
        "id": "Xl_3bQjdQ6Ht",
        "outputId": "6fda28c3-6944-4826-f65a-37cbe542fb6b"
      },
      "execution_count": 2,
      "outputs": [
        {
          "output_type": "execute_result",
          "data": {
            "text/plain": [
              "35.0"
            ]
          },
          "metadata": {},
          "execution_count": 2
        }
      ]
    },
    {
      "cell_type": "markdown",
      "source": [
        "####5.This assignment statements, like spam = 10. What is the difference between an expression and a statement?\n",
        "\n",
        "Ans: <br>Expression <br>\n",
        "An expression is a combination of values, variables, and operators.When we type an expression at the prompt, the interpreter evaluates it, which means that it finds the value of the expression.\n",
        "\n",
        "eg: 4*4+10-60 # Expression\n",
        "\n",
        "Statement\n",
        "\n",
        "A statement is a unit of code that has an effect, like creating a variable or displaying a value.When we type a statement, the interpreter executes it, which means that it does whatever the statement says. In general, statements don’t have values.\n",
        "\n",
        "eg: variable declaration and assignment are statements because they do not return a value"
      ],
      "metadata": {
        "id": "VZa3--gGSmWG"
      }
    },
    {
      "cell_type": "code",
      "source": [
        "#Example:\n",
        "4*4+10-60 # Expression\n",
        "course = 'FullStack DataScience' # Statement\n",
        "print(\"Hello World !\") # Is a Expression Statement"
      ],
      "metadata": {
        "colab": {
          "base_uri": "https://localhost:8080/"
        },
        "id": "dD7jL4NNSwdF",
        "outputId": "13cf1fb7-3498-46b4-af8a-2e83fd712f02"
      },
      "execution_count": 3,
      "outputs": [
        {
          "output_type": "stream",
          "name": "stdout",
          "text": [
            "Hello World !\n"
          ]
        }
      ]
    },
    {
      "cell_type": "markdown",
      "source": [
        "####6.After running the following code, what does the variable bacon contain?\n",
        "bacon = 22 <br>\n",
        "bacon + 1\n",
        "\n",
        "Ans: The variable bacon is set to 22 .The expression bacon + 1 does not reassign the value in bacon (that would the case if the expression is like bacon = bacon + 1 instead of bacon + 1)"
      ],
      "metadata": {
        "id": "h-wka15-TEJt"
      }
    },
    {
      "cell_type": "code",
      "source": [
        "# Example 1\n",
        "bacon=22\n",
        "bacon+1\n",
        "print(bacon)"
      ],
      "metadata": {
        "colab": {
          "base_uri": "https://localhost:8080/"
        },
        "id": "R7PRul-RUxyd",
        "outputId": "f8a473b9-97ae-4a75-bec7-8d3c026d6ca8"
      },
      "execution_count": 4,
      "outputs": [
        {
          "output_type": "stream",
          "name": "stdout",
          "text": [
            "22\n"
          ]
        }
      ]
    },
    {
      "cell_type": "code",
      "source": [
        "#Example 2\n",
        "bacon=22\n",
        "bacon=bacon+1 \n",
        "print(bacon)\n"
      ],
      "metadata": {
        "colab": {
          "base_uri": "https://localhost:8080/"
        },
        "id": "P-xaO33kVA2d",
        "outputId": "82163588-750a-4d10-9349-3aceb62c27a7"
      },
      "execution_count": 6,
      "outputs": [
        {
          "output_type": "stream",
          "name": "stdout",
          "text": [
            "23\n"
          ]
        }
      ]
    },
    {
      "cell_type": "markdown",
      "source": [
        "####7.What should the values of the following two terms be?\n",
        "'spam'+'spamspam'<br>\n",
        "'spam'*3\n",
        "\n",
        "Ans: Both expressions evaluate to the string 'spamspamspam' Where as the first expression follows String Concatentation and the second expression follows as String Multiplication"
      ],
      "metadata": {
        "id": "kUOkj_WmVSo-"
      }
    },
    {
      "cell_type": "code",
      "source": [
        "print('spam'+'spamspam') # string concatenation\n",
        "print('spam'*3) # string multiplication"
      ],
      "metadata": {
        "colab": {
          "base_uri": "https://localhost:8080/"
        },
        "id": "hJEBOVZZVcp9",
        "outputId": "858e8dc5-0955-4c8b-baeb-cc401e714524"
      },
      "execution_count": 7,
      "outputs": [
        {
          "output_type": "stream",
          "name": "stdout",
          "text": [
            "spamspamspam\n",
            "spamspamspam\n"
          ]
        }
      ]
    },
    {
      "cell_type": "markdown",
      "source": [
        "####8. Why is eggs a valid variable name while 100 is invalid?\n",
        "Ans: In python,Variable names cannot begin with a number. The python rules for naming a variable are :-\n",
        "\n",
        "- Variable name must start with a letter or the underscore character.\n",
        "- Variable name cannot start with a number.\n",
        "- Variable name can only contain alpha-numeric characters and underscores (A-z, 0-9, & _ ).\n",
        "- Variable names are case-sensitive (name, INEURON and ineuron are three different variables).\n",
        "The reserved words(keywords) cannot be used naming the variable."
      ],
      "metadata": {
        "id": "Rx1zwbccVuB1"
      }
    },
    {
      "cell_type": "code",
      "source": [
        "egg='Ineuron' # Valid  Initilization\n",
        "100='hello' # Invalid Initilization\n",
        "print(egg) #prints the value of egg ie Ineuron\n",
        "print(100) # Raises a Syntax Error as 100 is not a valid variable name"
      ],
      "metadata": {
        "colab": {
          "base_uri": "https://localhost:8080/",
          "height": 130
        },
        "id": "MXw7tb1_V-cN",
        "outputId": "932950c5-a8da-4e93-d7fe-9ac04ff4fc4e"
      },
      "execution_count": 8,
      "outputs": [
        {
          "output_type": "error",
          "ename": "SyntaxError",
          "evalue": "ignored",
          "traceback": [
            "\u001b[0;36m  File \u001b[0;32m\"<ipython-input-8-dbb106b946bd>\"\u001b[0;36m, line \u001b[0;32m2\u001b[0m\n\u001b[0;31m    100='hello' # Invalid Variable Initilization\u001b[0m\n\u001b[0m    ^\u001b[0m\n\u001b[0;31mSyntaxError\u001b[0m\u001b[0;31m:\u001b[0m cannot assign to literal\n"
          ]
        }
      ]
    },
    {
      "cell_type": "markdown",
      "source": [
        "####9.What three functions can be used to get the integer,floating-point number,or string version of a value?\n",
        "Ans: The int(),float(),and str() functions will evaluate to the integer,floating-point number,string version of the value passed to them."
      ],
      "metadata": {
        "id": "_pT_kqB9WQKG"
      }
    },
    {
      "cell_type": "code",
      "source": [
        "# Examples:\n",
        "print('int(10.0) -> ',int(49.4)) # int() function converts given input to int\n",
        "print('float(10) -> ',float(45)) # float() function converts given input to float\n",
        "print('str(10) -> ',str(23)) # str() function converts given input to string"
      ],
      "metadata": {
        "colab": {
          "base_uri": "https://localhost:8080/"
        },
        "id": "4HSBSMNOWVFm",
        "outputId": "053d10eb-a397-4197-8e07-6325f50976ee"
      },
      "execution_count": 9,
      "outputs": [
        {
          "output_type": "stream",
          "name": "stdout",
          "text": [
            "int(10.0) ->  49\n",
            "float(10) ->  45.0\n",
            "str(10) ->  23\n"
          ]
        }
      ]
    },
    {
      "cell_type": "markdown",
      "source": [
        "####10.Why does this expression cause an error? how can you fix it?\n",
        "'I have eaten ' + 99 + 'burritos.'\n",
        "\n",
        "Ans: This cause of error is 99.because 99 is not a string. 99 must be typecasted to a string to fix this error."
      ],
      "metadata": {
        "id": "IM_ZoWjqWrVN"
      }
    },
    {
      "cell_type": "code",
      "source": [
        "print('I have eaten '+str(99)+' burritos') # str() -> converts to a string"
      ],
      "metadata": {
        "id": "PH2iccj8WxQ-"
      },
      "execution_count": null,
      "outputs": []
    }
  ]
}