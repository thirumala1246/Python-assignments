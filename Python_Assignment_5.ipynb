{
  "nbformat": 4,
  "nbformat_minor": 0,
  "metadata": {
    "colab": {
      "provenance": []
    },
    "kernelspec": {
      "name": "python3",
      "display_name": "Python 3"
    },
    "language_info": {
      "name": "python"
    }
  },
  "cells": [
    {
      "cell_type": "markdown",
      "source": [
        "**1.What does an empty dictionary's code look like?**<br>\n",
        "Ans: empty dictionary is a dictionary that contains no items. `empty={}` (or) `empty=dict()` \n",
        "\n",
        "<br>\n",
        "<br>\n",
        "\n",
        "**2.what is the value of dictionary value with key 'foo' and the value 42 ?**<br>\n",
        "Ans: `{'foo':42}`\n",
        "\n",
        "<br>\n",
        "<br>\n",
        "\n",
        "**3.What is the most significant distinction between a dictionary and a list?**<br>\n",
        "Ans:Dictionaries are enclosed by { } where as listed are enclosed by [ ].List is ordered and dictionaries are unordered.\n",
        "<br>\n",
        "<br>\n",
        "\n",
        "**4.What happens if you try to access spam ['foo'] if spam is {'bar':100} ?**<br>\n",
        "Ans: Error: `KeyError: 'foo'`"
      ],
      "metadata": {
        "id": "W44Qo5T9wxc9"
      }
    },
    {
      "cell_type": "code",
      "source": [
        "spam={'bar':100}\n",
        "spam['foo']"
      ],
      "metadata": {
        "colab": {
          "base_uri": "https://localhost:8080/",
          "height": 183
        },
        "id": "XXbiJr2v5GWn",
        "outputId": "0bc3b91a-d99c-4cf1-d3a8-0b6d9778cd24"
      },
      "execution_count": null,
      "outputs": [
        {
          "output_type": "error",
          "ename": "KeyError",
          "evalue": "ignored",
          "traceback": [
            "\u001b[0;31m---------------------------------------------------------------------------\u001b[0m",
            "\u001b[0;31mKeyError\u001b[0m                                  Traceback (most recent call last)",
            "\u001b[0;32m<ipython-input-1-3fa7eee1403a>\u001b[0m in \u001b[0;36m<module>\u001b[0;34m\u001b[0m\n\u001b[1;32m      1\u001b[0m \u001b[0mspam\u001b[0m\u001b[0;34m=\u001b[0m\u001b[0;34m{\u001b[0m\u001b[0;34m'bar'\u001b[0m\u001b[0;34m:\u001b[0m\u001b[0;36m100\u001b[0m\u001b[0;34m}\u001b[0m\u001b[0;34m\u001b[0m\u001b[0;34m\u001b[0m\u001b[0m\n\u001b[0;32m----> 2\u001b[0;31m \u001b[0mspam\u001b[0m\u001b[0;34m[\u001b[0m\u001b[0;34m'foo'\u001b[0m\u001b[0;34m]\u001b[0m\u001b[0;34m\u001b[0m\u001b[0;34m\u001b[0m\u001b[0m\n\u001b[0m",
            "\u001b[0;31mKeyError\u001b[0m: 'foo'"
          ]
        }
      ]
    },
    {
      "cell_type": "markdown",
      "source": [
        "**5.if a dictionary is stored in spam,what is the difference between the expressions 'cat' in spam and 'cat' in spam.keys() ?**<br>\n",
        "Ans:no difference.operator checks whether a value exits as a key in the dictionary or not.\n",
        "\n",
        "<br>\n",
        "<br>\n",
        "\n",
        "**6.if a dictionary is stored in spam,what is the difference between the expressions 'cat' in spam and 'cat' in spam.values() ?**<br>\n",
        "Ans:'cat' in spam checks there is a 'cat' key in the dictionary, while 'cat' in spam.values() checks there is a value 'cat' for one of the keys in spam.\n",
        "\n",
        "<br>\n",
        "<br>\n",
        "\n",
        "**7.what is a shortcut for the following code ?<br>if &#39;color&#39; not in spam:<br>\n",
        "spam[&#39;color&#39;] = &#39;black&#39;**<br>\n",
        "Ans:`spam.setdefault('color','black')`\n",
        "\n",
        "<br>\n",
        "<br>\n",
        "\n",
        "**8.How do you 'pretty print' dictionary values using which modules and function ?**<br>\n",
        "Ans: The nested dictionary will be output in a more readable format, with each key-value pair on a new line and indented to show the data hierarchy.<br>\n",
        "\n",
        "*1.by using pprint() function of pprint module<br>\n",
        "**Note:** pprint() function doesnot prettify nested dictionaries<br>\n",
        "2.by using dumps() method of json module<br>\n",
        "3.by using dumps() method of yaml module*<br>"
      ],
      "metadata": {
        "id": "VqxjrvRY5xyn"
      }
    },
    {
      "cell_type": "code",
      "source": [
        "data = {'name': 'Abrar Ahmed',\n",
        "              'age': 20,\n",
        "              'address': {'street': 'East End', 'city': 'Bangalore', 'state': 'Karnataka'}}\n",
        "print('Printing using print() function\\n',data)\n",
        "print('-----------------------------------------')\n",
        "import pprint\n",
        "print('Printing using pprint() funciton')\n",
        "pprint.pprint(data)\n",
        "print('-----------------------------------------')\n",
        "import json\n",
        "dump = json.dumps(data, indent=4)\n",
        "print('Printing using dumps() method\\n', dump)\n",
        "print('-----------------------------------------')\n",
        "import yaml\n",
        "dump = yaml.dump(data)\n",
        "print('Printing using dump() method\\n', dump)"
      ],
      "metadata": {
        "colab": {
          "base_uri": "https://localhost:8080/"
        },
        "id": "mgGQRvmVUGsl",
        "outputId": "0f82f359-4628-495c-9dac-5b22919a48bb"
      },
      "execution_count": 2,
      "outputs": [
        {
          "output_type": "stream",
          "name": "stdout",
          "text": [
            "Printing using print() function\n",
            " {'name': 'Abrar Ahmed', 'age': 20, 'address': {'street': 'East End', 'city': 'Bangalore', 'state': 'Karnataka'}}\n",
            "-----------------------------------------\n",
            "Printing using pprint() funciton\n",
            "{'address': {'city': 'Bangalore', 'state': 'Karnataka', 'street': 'East End'},\n",
            " 'age': 20,\n",
            " 'name': 'Abrar Ahmed'}\n",
            "-----------------------------------------\n",
            "Printing using dumps() method\n",
            " {\n",
            "    \"name\": \"Abrar Ahmed\",\n",
            "    \"age\": 20,\n",
            "    \"address\": {\n",
            "        \"street\": \"East End\",\n",
            "        \"city\": \"Bangalore\",\n",
            "        \"state\": \"Karnataka\"\n",
            "    }\n",
            "}\n",
            "-----------------------------------------\n",
            "Printing using dump() method\n",
            " address:\n",
            "  city: Bangalore\n",
            "  state: Karnataka\n",
            "  street: East End\n",
            "age: 20\n",
            "name: Abrar Ahmed\n",
            "\n"
          ]
        }
      ]
    }
  ]
}